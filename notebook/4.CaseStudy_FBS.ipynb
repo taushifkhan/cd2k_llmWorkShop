{
 "cells": [
  {
   "cell_type": "code",
   "execution_count": 1,
   "metadata": {},
   "outputs": [],
   "source": [
    "import pandas as pd\n",
    "import json\n",
    "import matplotlib.pyplot as plt\n",
    "import seaborn as sns\n",
    "import numpy as np\n",
    "import altair as alt\n",
    "from glob import glob\n",
    "from tqdm import tqdm_notebook"
   ]
  },
  {
   "cell_type": "code",
   "execution_count": 2,
   "metadata": {},
   "outputs": [
    {
     "name": "stdout",
     "output_type": "stream",
     "text": [
      "/Users/khant/JaX_work/g4API_app/cd2k_llmWorkShop/notebook\n"
     ]
    }
   ],
   "source": [
    "!pwd"
   ]
  },
  {
   "cell_type": "code",
   "execution_count": 4,
   "metadata": {},
   "outputs": [],
   "source": [
    "runDir =\"/Users/khant/JaX_work/g4API_app/FBS_tumorOrganoid/FBS_tumorOrganoid/\"\n",
    "prompt = json.load(open(runDir+\"param/FGF_param.json\",\"r\"))"
   ]
  },
  {
   "cell_type": "code",
   "execution_count": 5,
   "metadata": {},
   "outputs": [
    {
     "data": {
      "text/plain": [
       "{'background': ['gene name', 'Brief summary'],\n",
       " 'scoring_strategy': 'Generate a score from 0 to 10 for each of the following statements based on the available evidence from the scientific literature',\n",
       " 'model_setting': {'temperature': 0.7, 'q_iter': 1},\n",
       " 'question': ['The gene is associated with the biological functions or signaling pathways of Fibroblast Growth Factor. Score: Based on evidence linking the gene to the various cellular processes and signaling cascades regulated by Fibroblast Growth Factor, such as cell proliferation, differentiation, migration, angiogenesis, and wound healing.',\n",
       "  \"The gene's expression is regulated by Fibroblast Growth Factor signaling. Score: Based on evidence demonstrating that the gene's transcription is modulated in response to Fibroblast Growth Factor stimulation or inhibition, suggesting a direct or indirect regulatory relationship\",\n",
       "  \"The gene's product interacts with Fibroblast Growth Factor or Fibroblast Growth Factor receptors. Score: Based on evidence indicating physical or functional interactions between the gene's encoded protein and Fibroblast Growth Factor ligands or receptors, which may modulate Fibroblast Growth Factor signaling or downstream effects.\"]}"
      ]
     },
     "execution_count": 5,
     "metadata": {},
     "output_type": "execute_result"
    }
   ],
   "source": [
    "prompt"
   ]
  },
  {
   "cell_type": "code",
   "execution_count": 6,
   "metadata": {},
   "outputs": [
    {
     "name": "stdout",
     "output_type": "stream",
     "text": [
      "{\n",
      "    \"datasvc-openai-compsci-poc-gpt4-turbo_1\": [\n",
      "        \"```json\",\n",
      "        \"{\",\n",
      "        \"  \\\"gene_name\\\": \\\"MGA\\\",\",\n",
      "        \"  \\\"brief_summary\\\": \\\"The gene MGA, which stands for 'MAX Gene Associated,' encodes a protein that is a member of the MAX (MYC associated factor X) network of transcriptional regulators. This protein is involved in complex cellular processes, including regulation of gene expression, cell cycle progression, and possibly also chromatin remodeling. It has been implicated in the control of cellular growth and differentiation and may play a role in tumor suppression.\\\",\",\n",
      "        \"  \\\"evidence_scores\\\": {\",\n",
      "        \"    \\\"The gene is associated with the biological functions or signaling pathways of Fibroblast Growth Factor.\\\": 1,\",\n",
      "        \"    \\\"The gene's expression is regulated by Fibroblast Growth Factor signaling.\\\": 2,\",\n",
      "        \"    \\\"The gene's product interacts with Fibroblast Growth Factor or Fibroblast Growth Factor receptors.\\\": 0\",\n",
      "        \"  }\",\n",
      "        \"}\",\n",
      "        \"```\",\n",
      "        \"\",\n",
      "        \"Please note that the scores provided here are hypothetical and for illustrative purposes only. In a real-world scenario, these scores would be derived after a thorough review of the available scientific literature on the gene MGA and its association with Fibroblast Growth Factor signaling pathways and functions. The scores provided are a rough estimate and should not be considered accurate without proper literature review and analysis.\"\n",
      "    ],\n",
      "    \"time\": 50.008052349090576\n",
      "}"
     ]
    }
   ],
   "source": [
    "!cat {runDir}\"outResults_g4/resp_MGA.json\""
   ]
  },
  {
   "cell_type": "code",
   "execution_count": 7,
   "metadata": {},
   "outputs": [],
   "source": [
    "# define key dictionary for each question for concrete formatting\n",
    "import re\n",
    "mainkey_qestion_key = {'summary':'Summary','Brief_summary':'Summary',\n",
    "                       \"gene_name\":'geneSymbol',\n",
    "               'associated with':'a_associated_FGF',\n",
    "                'expression is regulate':'b_regulates_FGF',\n",
    "                'interacts with':'c_Interacts_FGF',\n",
    "               }\n"
   ]
  },
  {
   "cell_type": "code",
   "execution_count": 8,
   "metadata": {},
   "outputs": [],
   "source": [
    "\n",
    "\n",
    "\n",
    "def find_keyword(sline, keyLib):\n",
    "    for mk in keyLib.keys():\n",
    "\n",
    "        # Regular expression pattern to find all combinations of the letters in 'gene'\n",
    "        pattern = r'{}'.format(mk)\n",
    "\n",
    "        # Finding all matches in the sample text\n",
    "        matches = re.findall(pattern, sline, re.IGNORECASE)\n",
    "        if matches:\n",
    "            return keyLib[mk]\n",
    "        else:\n",
    "            next\n",
    "    return False\n",
    "\n",
    "\n",
    "\n",
    "def convert_stringtodict(lines, keylib):\n",
    "    dict_line = {}\n",
    "    for k in lines:\n",
    "        ksplit = k.split(\":\")\n",
    "\n",
    "        if len(ksplit) ==2:\n",
    "            key_tmp = find_keyword(ksplit[0].strip(\"\\'|\\\"|', |\").strip(), keylib)\n",
    "            val_tmp = ksplit[1].strip(\"\\'|\\\"|',|{|} \").strip()\n",
    "            if key_tmp and val_tmp:\n",
    "                if (key_tmp == \"Summary\") | (key_tmp == \"geneSymbol\"):\n",
    "                    dict_line[key_tmp] = val_tmp\n",
    "                else:\n",
    "                    try:\n",
    "                        dict_line[key_tmp] = float(val_tmp)\n",
    "                    except:\n",
    "                        dict_line[key_tmp] = 0\n",
    "            else:\n",
    "                next\n",
    "                # print (\"error in \", ksplit)\n",
    "\n",
    "    return dict_line\n",
    "\n",
    "def truncate_json_at_time(filepath):\n",
    "    with open(filepath, 'r') as file:\n",
    "        content = file.read()\n",
    "\n",
    "    # Find the index of the first occurrence of \"time\"\n",
    "    time_index = content.find('\"time\"')\n",
    "    if time_index != -1:\n",
    "        # Find the index of the next \"}\" after \"time\"\n",
    "        end_index = content.find('}', time_index)\n",
    "        if end_index != -1:\n",
    "            # Truncate the content after the \"}\"\n",
    "            content = content[:end_index + 1]\n",
    "            return content\n",
    "    return \"Time key not found or missing closing brace.\""
   ]
  },
  {
   "cell_type": "code",
   "execution_count": 9,
   "metadata": {},
   "outputs": [
    {
     "name": "stdout",
     "output_type": "stream",
     "text": [
      "    9870\n"
     ]
    }
   ],
   "source": [
    "outdirPath = runDir+\"outResults_g4/\"\n",
    "!ls {outdirPath} | wc -l"
   ]
  },
  {
   "cell_type": "code",
   "execution_count": 10,
   "metadata": {},
   "outputs": [
    {
     "name": "stderr",
     "output_type": "stream",
     "text": [
      "/var/folders/t3/68lkvp7d7dlcctl6w91ml6yj8cs2fb/T/ipykernel_38929/44551471.py:5: TqdmDeprecationWarning: This function will be removed in tqdm==5.0.0\n",
      "Please use `tqdm.notebook.tqdm` instead of `tqdm.tqdm_notebook`\n",
      "  for k in tqdm_notebook(glob(outdirPath+\"resp_*.json\")):\n"
     ]
    },
    {
     "data": {
      "application/vnd.jupyter.widget-view+json": {
       "model_id": "9efbd6e4bbd94d33b235a025b434e38e",
       "version_major": 2,
       "version_minor": 0
      },
      "text/plain": [
       "  0%|          | 0/9870 [00:00<?, ?it/s]"
      ]
     },
     "metadata": {},
     "output_type": "display_data"
    },
    {
     "name": "stdout",
     "output_type": "stream",
     "text": [
      "success: 9870 \n",
      "error : 0\n"
     ]
    }
   ],
   "source": [
    "outdirPath = runDir+\"outResults_g4/\"\n",
    "responseDF = []\n",
    "error_JSON = []\n",
    "\n",
    "for k in tqdm_notebook(glob(outdirPath+\"resp_*.json\")):\n",
    "    gene_name = k.split(\"/\")[-1].split(\"_\")[-1].split(\".\")[0]\n",
    "    try:\n",
    "        response = json.load(open(k,'r'))\n",
    "        response_keys = list(response.keys())\n",
    "        tx = convert_stringtodict(response[response_keys[0]],mainkey_qestion_key)\n",
    "        tx.update({'time':response['time'],'model':response_keys[0],'geneName':gene_name})\n",
    "        responseDF.append(tx)\n",
    "    except:\n",
    "        try:\n",
    "            truncated_json = json.loads(truncate_json_at_time(k))\n",
    "            response_keys = list(truncated_json.keys())\n",
    "            tx = convert_stringtodict(truncated_json[response_keys[0]],mainkey_qestion_key)\n",
    "            tx.update({'time':response['time'],'model':response_keys[0],'geneName':gene_name})\n",
    "            responseDF.append(tx)\n",
    "        except:\n",
    "            error_JSON.append([gene_name,k])\n",
    "print (\"success:\",len(responseDF),\"\\nerror :\",len(error_JSON))"
   ]
  },
  {
   "cell_type": "code",
   "execution_count": 11,
   "metadata": {},
   "outputs": [
    {
     "name": "stdout",
     "output_type": "stream",
     "text": [
      "(9870, 7)\n"
     ]
    }
   ],
   "source": [
    "FGF_responseDF = pd.DataFrame(responseDF).set_index(\"geneName\")\n",
    "print (FGF_responseDF.shape)"
   ]
  },
  {
   "cell_type": "code",
   "execution_count": 12,
   "metadata": {},
   "outputs": [
    {
     "data": {
      "text/plain": [
       "Text(5.069444444444452, 0.5, '# genes')"
      ]
     },
     "execution_count": 12,
     "metadata": {},
     "output_type": "execute_result"
    },
    {
     "data": {
      "image/png": "[encoded data removed]",
      "text/plain": [
       "<Figure size 750x500 with 1 Axes>"
      ]
     },
     "metadata": {},
     "output_type": "display_data"
    }
   ],
   "source": [
    "sns.displot(x=\"time\",data=FGF_responseDF,aspect=1.5)\n",
    "plt.xlabel(\"Time (sec)\")\n",
    "plt.ylabel(\"# genes\")\n"
   ]
  },
  {
   "cell_type": "code",
   "execution_count": 13,
   "metadata": {},
   "outputs": [
    {
     "data": {
      "text/html": [
       "<div>\n",
       "<style scoped>\n",
       "    .dataframe tbody tr th:only-of-type {\n",
       "        vertical-align: middle;\n",
       "    }\n",
       "\n",
       "    .dataframe tbody tr th {\n",
       "        vertical-align: top;\n",
       "    }\n",
       "\n",
       "    .dataframe thead th {\n",
       "        text-align: right;\n",
       "    }\n",
       "</style>\n",
       "<table border=\"1\" class=\"dataframe\">\n",
       "  <thead>\n",
       "    <tr style=\"text-align: right;\">\n",
       "      <th></th>\n",
       "      <th>geneSymbol</th>\n",
       "      <th>Summary</th>\n",
       "      <th>a_associated_FGF</th>\n",
       "      <th>b_regulates_FGF</th>\n",
       "      <th>c_Interacts_FGF</th>\n",
       "      <th>time</th>\n",
       "      <th>model</th>\n",
       "    </tr>\n",
       "    <tr>\n",
       "      <th>geneName</th>\n",
       "      <th></th>\n",
       "      <th></th>\n",
       "      <th></th>\n",
       "      <th></th>\n",
       "      <th></th>\n",
       "      <th></th>\n",
       "      <th></th>\n",
       "    </tr>\n",
       "  </thead>\n",
       "  <tbody>\n",
       "    <tr>\n",
       "      <th>SYTL4</th>\n",
       "      <td>SYTL4</td>\n",
       "      <td>SYTL4, also known as Synaptotagmin-Like Protei...</td>\n",
       "      <td>2.0</td>\n",
       "      <td>1.0</td>\n",
       "      <td>1.0</td>\n",
       "      <td>39.272612</td>\n",
       "      <td>datasvc-openai-compsci-poc-gpt4-turbo_1</td>\n",
       "    </tr>\n",
       "    <tr>\n",
       "      <th>OTUD6B</th>\n",
       "      <td>OTUD6B</td>\n",
       "      <td>OTUD6B, also known as OTU domain-containing pr...</td>\n",
       "      <td>2.0</td>\n",
       "      <td>1.0</td>\n",
       "      <td>1.0</td>\n",
       "      <td>51.072371</td>\n",
       "      <td>datasvc-openai-compsci-poc-gpt4-turbo_1</td>\n",
       "    </tr>\n",
       "    <tr>\n",
       "      <th>LOC731823</th>\n",
       "      <td>LOC731823</td>\n",
       "      <td>LOC731823 is a gene identifier that may refer ...</td>\n",
       "      <td>0.0</td>\n",
       "      <td>0.0</td>\n",
       "      <td>0.0</td>\n",
       "      <td>39.048358</td>\n",
       "      <td>datasvc-openai-compsci-poc-gpt4-turbo_1</td>\n",
       "    </tr>\n",
       "    <tr>\n",
       "      <th>C5ORF3</th>\n",
       "      <td>C5ORF3</td>\n",
       "      <td>C5ORF3 (Chromosome 5 Open Reading Frame 3) is ...</td>\n",
       "      <td>0.0</td>\n",
       "      <td>0.0</td>\n",
       "      <td>0.0</td>\n",
       "      <td>51.512341</td>\n",
       "      <td>datasvc-openai-compsci-poc-gpt4-turbo_1</td>\n",
       "    </tr>\n",
       "    <tr>\n",
       "      <th>UFC1</th>\n",
       "      <td>UFC1</td>\n",
       "      <td>UFC1 (Ubiquitin-Fold Modifier Conjugating Enzy...</td>\n",
       "      <td>0.0</td>\n",
       "      <td>0.0</td>\n",
       "      <td>0.0</td>\n",
       "      <td>42.205902</td>\n",
       "      <td>datasvc-openai-compsci-poc-gpt4-turbo_1</td>\n",
       "    </tr>\n",
       "  </tbody>\n",
       "</table>\n",
       "</div>"
      ],
      "text/plain": [
       "          geneSymbol                                            Summary  \\\n",
       "geneName                                                                  \n",
       "SYTL4          SYTL4  SYTL4, also known as Synaptotagmin-Like Protei...   \n",
       "OTUD6B        OTUD6B  OTUD6B, also known as OTU domain-containing pr...   \n",
       "LOC731823  LOC731823  LOC731823 is a gene identifier that may refer ...   \n",
       "C5ORF3        C5ORF3  C5ORF3 (Chromosome 5 Open Reading Frame 3) is ...   \n",
       "UFC1            UFC1  UFC1 (Ubiquitin-Fold Modifier Conjugating Enzy...   \n",
       "\n",
       "           a_associated_FGF  b_regulates_FGF  c_Interacts_FGF       time  \\\n",
       "geneName                                                                   \n",
       "SYTL4                   2.0              1.0              1.0  39.272612   \n",
       "OTUD6B                  2.0              1.0              1.0  51.072371   \n",
       "LOC731823               0.0              0.0              0.0  39.048358   \n",
       "C5ORF3                  0.0              0.0              0.0  51.512341   \n",
       "UFC1                    0.0              0.0              0.0  42.205902   \n",
       "\n",
       "                                             model  \n",
       "geneName                                            \n",
       "SYTL4      datasvc-openai-compsci-poc-gpt4-turbo_1  \n",
       "OTUD6B     datasvc-openai-compsci-poc-gpt4-turbo_1  \n",
       "LOC731823  datasvc-openai-compsci-poc-gpt4-turbo_1  \n",
       "C5ORF3     datasvc-openai-compsci-poc-gpt4-turbo_1  \n",
       "UFC1       datasvc-openai-compsci-poc-gpt4-turbo_1  "
      ]
     },
     "execution_count": 13,
     "metadata": {},
     "output_type": "execute_result"
    }
   ],
   "source": [
    "FGF_responseDF.head()"
   ]
  },
  {
   "cell_type": "code",
   "execution_count": 48,
   "metadata": {},
   "outputs": [
    {
     "data": {
      "text/plain": [
       "geneSymbol                                                      2-Sep\n",
       "Summary             2-Sep is a hypothetical gene implicated in FGF...\n",
       "a_associated_FGF                                                  5.0\n",
       "b_regulates_FGF                                                   6.0\n",
       "c_Interacts_FGF                                                   4.0\n",
       "time                                                        50.099958\n",
       "model                         datasvc-openai-compsci-poc-gpt4-turbo_1\n",
       "Name: 2-Sep, dtype: object"
      ]
     },
     "execution_count": 48,
     "metadata": {},
     "output_type": "execute_result"
    }
   ],
   "source": [
    "FGF_responseDF.loc['2-Sep']"
   ]
  },
  {
   "cell_type": "code",
   "execution_count": 15,
   "metadata": {},
   "outputs": [
    {
     "name": "stdout",
     "output_type": "stream",
     "text": [
      "(11465, 3)\n"
     ]
    },
    {
     "data": {
      "text/html": [
       "<div>\n",
       "<style scoped>\n",
       "    .dataframe tbody tr th:only-of-type {\n",
       "        vertical-align: middle;\n",
       "    }\n",
       "\n",
       "    .dataframe tbody tr th {\n",
       "        vertical-align: top;\n",
       "    }\n",
       "\n",
       "    .dataframe thead th {\n",
       "        text-align: right;\n",
       "    }\n",
       "</style>\n",
       "<table border=\"1\" class=\"dataframe\">\n",
       "  <thead>\n",
       "    <tr style=\"text-align: right;\">\n",
       "      <th></th>\n",
       "      <th>ModuleID</th>\n",
       "      <th>AggregateNumber</th>\n",
       "      <th>ModuleTitle</th>\n",
       "    </tr>\n",
       "    <tr>\n",
       "      <th>geneSymbol</th>\n",
       "      <th></th>\n",
       "      <th></th>\n",
       "      <th></th>\n",
       "    </tr>\n",
       "  </thead>\n",
       "  <tbody>\n",
       "    <tr>\n",
       "      <th>ALPP</th>\n",
       "      <td>M3.1</td>\n",
       "      <td>A29</td>\n",
       "      <td>Cell cycle</td>\n",
       "    </tr>\n",
       "    <tr>\n",
       "      <th>ALS2CR14</th>\n",
       "      <td>M3.1</td>\n",
       "      <td>A29</td>\n",
       "      <td>Cell cycle</td>\n",
       "    </tr>\n",
       "    <tr>\n",
       "      <th>ANKRD30B</th>\n",
       "      <td>M3.1</td>\n",
       "      <td>A29</td>\n",
       "      <td>Cell cycle</td>\n",
       "    </tr>\n",
       "    <tr>\n",
       "      <th>ARL16</th>\n",
       "      <td>M3.1</td>\n",
       "      <td>A29</td>\n",
       "      <td>Cell cycle</td>\n",
       "    </tr>\n",
       "    <tr>\n",
       "      <th>BCYRN1</th>\n",
       "      <td>M3.1</td>\n",
       "      <td>A29</td>\n",
       "      <td>Cell cycle</td>\n",
       "    </tr>\n",
       "  </tbody>\n",
       "</table>\n",
       "</div>"
      ],
      "text/plain": [
       "           ModuleID AggregateNumber ModuleTitle\n",
       "geneSymbol                                     \n",
       "ALPP           M3.1             A29  Cell cycle\n",
       "ALS2CR14       M3.1             A29  Cell cycle\n",
       "ANKRD30B       M3.1             A29  Cell cycle\n",
       "ARL16          M3.1             A29  Cell cycle\n",
       "BCYRN1         M3.1             A29  Cell cycle"
      ]
     },
     "execution_count": 15,
     "metadata": {},
     "output_type": "execute_result"
    }
   ],
   "source": [
    "geneBase = pd.read_csv(runDir+\"data/ModuleTranscript_geneList.csv.gzip\",compression=\"gzip\").set_index(\"geneSymbol\")\n",
    "geneBase = geneBase.drop(\"Unnamed: 0\",axis=1)\n",
    "print (geneBase.shape)\n",
    "geneBase.head()"
   ]
  },
  {
   "cell_type": "code",
   "execution_count": 16,
   "metadata": {},
   "outputs": [
    {
     "data": {
      "text/html": [
       "<div>\n",
       "<style scoped>\n",
       "    .dataframe tbody tr th:only-of-type {\n",
       "        vertical-align: middle;\n",
       "    }\n",
       "\n",
       "    .dataframe tbody tr th {\n",
       "        vertical-align: top;\n",
       "    }\n",
       "\n",
       "    .dataframe thead th {\n",
       "        text-align: right;\n",
       "    }\n",
       "</style>\n",
       "<table border=\"1\" class=\"dataframe\">\n",
       "  <thead>\n",
       "    <tr style=\"text-align: right;\">\n",
       "      <th></th>\n",
       "      <th>geneSymbol</th>\n",
       "      <th>Summary</th>\n",
       "    </tr>\n",
       "    <tr>\n",
       "      <th>geneName</th>\n",
       "      <th></th>\n",
       "      <th></th>\n",
       "    </tr>\n",
       "  </thead>\n",
       "  <tbody>\n",
       "    <tr>\n",
       "      <th>SYTL4</th>\n",
       "      <td>SYTL4</td>\n",
       "      <td>SYTL4, also known as Synaptotagmin-Like Protei...</td>\n",
       "    </tr>\n",
       "    <tr>\n",
       "      <th>OTUD6B</th>\n",
       "      <td>OTUD6B</td>\n",
       "      <td>OTUD6B, also known as OTU domain-containing pr...</td>\n",
       "    </tr>\n",
       "    <tr>\n",
       "      <th>LOC731823</th>\n",
       "      <td>LOC731823</td>\n",
       "      <td>LOC731823 is a gene identifier that may refer ...</td>\n",
       "    </tr>\n",
       "    <tr>\n",
       "      <th>C5ORF3</th>\n",
       "      <td>C5ORF3</td>\n",
       "      <td>C5ORF3 (Chromosome 5 Open Reading Frame 3) is ...</td>\n",
       "    </tr>\n",
       "    <tr>\n",
       "      <th>UFC1</th>\n",
       "      <td>UFC1</td>\n",
       "      <td>UFC1 (Ubiquitin-Fold Modifier Conjugating Enzy...</td>\n",
       "    </tr>\n",
       "  </tbody>\n",
       "</table>\n",
       "</div>"
      ],
      "text/plain": [
       "          geneSymbol                                            Summary\n",
       "geneName                                                               \n",
       "SYTL4          SYTL4  SYTL4, also known as Synaptotagmin-Like Protei...\n",
       "OTUD6B        OTUD6B  OTUD6B, also known as OTU domain-containing pr...\n",
       "LOC731823  LOC731823  LOC731823 is a gene identifier that may refer ...\n",
       "C5ORF3        C5ORF3  C5ORF3 (Chromosome 5 Open Reading Frame 3) is ...\n",
       "UFC1            UFC1  UFC1 (Ubiquitin-Fold Modifier Conjugating Enzy..."
      ]
     },
     "execution_count": 16,
     "metadata": {},
     "output_type": "execute_result"
    }
   ],
   "source": [
    "responseDF_geneInfo = FGF_responseDF[['geneSymbol', 'Summary',]]\n",
    "responseDF_geneInfo.head()"
   ]
  },
  {
   "cell_type": "code",
   "execution_count": 17,
   "metadata": {},
   "outputs": [
    {
     "name": "stderr",
     "output_type": "stream",
     "text": [
      "/var/folders/t3/68lkvp7d7dlcctl6w91ml6yj8cs2fb/T/ipykernel_38929/505304959.py:4: SettingWithCopyWarning: \n",
      "A value is trying to be set on a copy of a slice from a DataFrame.\n",
      "Try using .loc[row_indexer,col_indexer] = value instead\n",
      "\n",
      "See the caveats in the documentation: https://pandas.pydata.org/pandas-docs/stable/user_guide/indexing.html#returning-a-view-versus-a-copy\n",
      "  responseDF_geneInfo.loc[ikey,'c_error'] = True\n",
      "/var/folders/t3/68lkvp7d7dlcctl6w91ml6yj8cs2fb/T/ipykernel_38929/505304959.py:4: FutureWarning: Setting an item of incompatible dtype is deprecated and will raise in a future error of pandas. Value 'True' has dtype incompatible with float64, please explicitly cast to a compatible dtype first.\n",
      "  responseDF_geneInfo.loc[ikey,'c_error'] = True\n"
     ]
    },
    {
     "data": {
      "text/plain": [
       "c_error\n",
       "True    462\n",
       "dtype: int64"
      ]
     },
     "execution_count": 17,
     "metadata": {},
     "output_type": "execute_result"
    }
   ],
   "source": [
    "for ikey , ival in FGF_responseDF[['geneSymbol']].iterrows():\n",
    "    if not ikey == ival.geneSymbol:\n",
    "        #print (ikey,ival.geneSymbol)\n",
    "        responseDF_geneInfo.loc[ikey,'c_error'] = True\n",
    "\n",
    "responseDF_geneInfo.groupby('c_error').size()"
   ]
  },
  {
   "cell_type": "code",
   "execution_count": 18,
   "metadata": {},
   "outputs": [
    {
     "data": {
      "text/html": [
       "<div>\n",
       "<style scoped>\n",
       "    .dataframe tbody tr th:only-of-type {\n",
       "        vertical-align: middle;\n",
       "    }\n",
       "\n",
       "    .dataframe tbody tr th {\n",
       "        vertical-align: top;\n",
       "    }\n",
       "\n",
       "    .dataframe thead th {\n",
       "        text-align: right;\n",
       "    }\n",
       "</style>\n",
       "<table border=\"1\" class=\"dataframe\">\n",
       "  <thead>\n",
       "    <tr style=\"text-align: right;\">\n",
       "      <th></th>\n",
       "      <th>geneName</th>\n",
       "      <th>geneSymbol</th>\n",
       "      <th>Summary</th>\n",
       "      <th>c_error</th>\n",
       "    </tr>\n",
       "  </thead>\n",
       "  <tbody>\n",
       "    <tr>\n",
       "      <th>0</th>\n",
       "      <td>HS</td>\n",
       "      <td>Example Gene Name</td>\n",
       "      <td>This is a brief summary of the gene, describin...</td>\n",
       "      <td>True</td>\n",
       "    </tr>\n",
       "    <tr>\n",
       "      <th>5</th>\n",
       "      <td>C6ORF170</td>\n",
       "      <td>C6orf170</td>\n",
       "      <td>C6orf170 is a gene located on chromosome 6 wit...</td>\n",
       "      <td>True</td>\n",
       "    </tr>\n",
       "    <tr>\n",
       "      <th>13</th>\n",
       "      <td>LMOD3</td>\n",
       "      <td>NaN</td>\n",
       "      <td>LMOD3 (Leiomodin 3) is a gene that encodes the...</td>\n",
       "      <td>True</td>\n",
       "    </tr>\n",
       "    <tr>\n",
       "      <th>16</th>\n",
       "      <td>C16ORF72</td>\n",
       "      <td>C16orf72</td>\n",
       "      <td>C16orf72 is a gene located on the short arm of...</td>\n",
       "      <td>True</td>\n",
       "    </tr>\n",
       "    <tr>\n",
       "      <th>20</th>\n",
       "      <td>IDS</td>\n",
       "      <td>Hypothetical Protein Kinase</td>\n",
       "      <td>GENE1234 encodes a hypothetical protein kinase...</td>\n",
       "      <td>True</td>\n",
       "    </tr>\n",
       "    <tr>\n",
       "      <th>...</th>\n",
       "      <td>...</td>\n",
       "      <td>...</td>\n",
       "      <td>...</td>\n",
       "      <td>...</td>\n",
       "    </tr>\n",
       "    <tr>\n",
       "      <th>439</th>\n",
       "      <td>C19ORF59</td>\n",
       "      <td>C19orf59</td>\n",
       "      <td>C19orf59, also known as chromosome 19 open rea...</td>\n",
       "      <td>True</td>\n",
       "    </tr>\n",
       "    <tr>\n",
       "      <th>448</th>\n",
       "      <td>C1ORF142</td>\n",
       "      <td>C1orf142</td>\n",
       "      <td>C1orf142, also known as 'chromosome 1 open rea...</td>\n",
       "      <td>True</td>\n",
       "    </tr>\n",
       "    <tr>\n",
       "      <th>451</th>\n",
       "      <td>C2ORF49</td>\n",
       "      <td>C2orf49</td>\n",
       "      <td>C2orf49 is a gene located on the second chromo...</td>\n",
       "      <td>True</td>\n",
       "    </tr>\n",
       "    <tr>\n",
       "      <th>454</th>\n",
       "      <td>IGLL3</td>\n",
       "      <td>NaN</td>\n",
       "      <td>IGLL3 (Immunoglobulin Lambda Like Polypeptide ...</td>\n",
       "      <td>True</td>\n",
       "    </tr>\n",
       "    <tr>\n",
       "      <th>456</th>\n",
       "      <td>KIAA0261</td>\n",
       "      <td>ATAD3A</td>\n",
       "      <td>ATAD3A, also known as ATPase family AAA domain...</td>\n",
       "      <td>True</td>\n",
       "    </tr>\n",
       "  </tbody>\n",
       "</table>\n",
       "<p>85 rows × 4 columns</p>\n",
       "</div>"
      ],
      "text/plain": [
       "     geneName                   geneSymbol  \\\n",
       "0          HS            Example Gene Name   \n",
       "5    C6ORF170                     C6orf170   \n",
       "13      LMOD3                          NaN   \n",
       "16   C16ORF72                     C16orf72   \n",
       "20        IDS  Hypothetical Protein Kinase   \n",
       "..        ...                          ...   \n",
       "439  C19ORF59                     C19orf59   \n",
       "448  C1ORF142                     C1orf142   \n",
       "451   C2ORF49                      C2orf49   \n",
       "454     IGLL3                          NaN   \n",
       "456  KIAA0261                       ATAD3A   \n",
       "\n",
       "                                               Summary c_error  \n",
       "0    This is a brief summary of the gene, describin...    True  \n",
       "5    C6orf170 is a gene located on chromosome 6 wit...    True  \n",
       "13   LMOD3 (Leiomodin 3) is a gene that encodes the...    True  \n",
       "16   C16orf72 is a gene located on the short arm of...    True  \n",
       "20   GENE1234 encodes a hypothetical protein kinase...    True  \n",
       "..                                                 ...     ...  \n",
       "439  C19orf59, also known as chromosome 19 open rea...    True  \n",
       "448  C1orf142, also known as 'chromosome 1 open rea...    True  \n",
       "451  C2orf49 is a gene located on the second chromo...    True  \n",
       "454  IGLL3 (Immunoglobulin Lambda Like Polypeptide ...    True  \n",
       "456  ATAD3A, also known as ATPase family AAA domain...    True  \n",
       "\n",
       "[85 rows x 4 columns]"
      ]
     },
     "execution_count": 18,
     "metadata": {},
     "output_type": "execute_result"
    }
   ],
   "source": [
    "responseDF_geneInfo[responseDF_geneInfo.c_error==True].reset_index().drop_duplicates(\"geneName\")"
   ]
  },
  {
   "cell_type": "code",
   "execution_count": 19,
   "metadata": {},
   "outputs": [
    {
     "name": "stdout",
     "output_type": "stream",
     "text": [
      "All genes:  9870 \n",
      "Genes where ene id matches: 9408\n"
     ]
    }
   ],
   "source": [
    "FGF_responseDF_actGene = FGF_responseDF.loc[responseDF_geneInfo[responseDF_geneInfo.c_error.isna()].index]\n",
    "print (\"All genes: \", FGF_responseDF.shape[0], \"\\nGenes where ene id matches:\", FGF_responseDF_actGene.shape[0])\n"
   ]
  },
  {
   "cell_type": "code",
   "execution_count": 20,
   "metadata": {},
   "outputs": [
    {
     "data": {
      "text/plain": [
       "Index(['geneSymbol', 'Summary', 'a_associated_FGF', 'b_regulates_FGF',\n",
       "       'c_Interacts_FGF', 'time', 'model'],\n",
       "      dtype='object')"
      ]
     },
     "execution_count": 20,
     "metadata": {},
     "output_type": "execute_result"
    }
   ],
   "source": [
    "FGF_responseDF_actGene.columns"
   ]
  },
  {
   "cell_type": "code",
   "execution_count": 44,
   "metadata": {},
   "outputs": [
    {
     "name": "stdout",
     "output_type": "stream",
     "text": [
      "/Users/khant/JaX_work/g4API_app/cd2k_llmWorkShop/notebook\n"
     ]
    }
   ],
   "source": [
    "!pwd"
   ]
  },
  {
   "cell_type": "code",
   "execution_count": 46,
   "metadata": {},
   "outputs": [],
   "source": [
    "FGF_responseDF_actGene.to_csv(\"../data/openAI_result_curated/FGF/scores_9408_genes.csv\")"
   ]
  },
  {
   "cell_type": "code",
   "execution_count": 21,
   "metadata": {},
   "outputs": [],
   "source": [
    "score_cols = ['a_associated_FGF', 'b_regulates_FGF',\n",
    "       'c_Interacts_FGF']"
   ]
  },
  {
   "cell_type": "code",
   "execution_count": 22,
   "metadata": {},
   "outputs": [
    {
     "name": "stdout",
     "output_type": "stream",
     "text": [
      "(9408, 3)\n"
     ]
    }
   ],
   "source": [
    "FGF_responseDF_scores = FGF_responseDF_actGene[score_cols]\n",
    "print (FGF_responseDF_scores.shape)"
   ]
  },
  {
   "cell_type": "code",
   "execution_count": 23,
   "metadata": {},
   "outputs": [
    {
     "data": {
      "text/html": [
       "<div>\n",
       "<style scoped>\n",
       "    .dataframe tbody tr th:only-of-type {\n",
       "        vertical-align: middle;\n",
       "    }\n",
       "\n",
       "    .dataframe tbody tr th {\n",
       "        vertical-align: top;\n",
       "    }\n",
       "\n",
       "    .dataframe thead th {\n",
       "        text-align: right;\n",
       "    }\n",
       "</style>\n",
       "<table border=\"1\" class=\"dataframe\">\n",
       "  <thead>\n",
       "    <tr style=\"text-align: right;\">\n",
       "      <th></th>\n",
       "      <th>a_associated_FGF</th>\n",
       "      <th>b_regulates_FGF</th>\n",
       "      <th>c_Interacts_FGF</th>\n",
       "    </tr>\n",
       "    <tr>\n",
       "      <th>geneName</th>\n",
       "      <th></th>\n",
       "      <th></th>\n",
       "      <th></th>\n",
       "    </tr>\n",
       "  </thead>\n",
       "  <tbody>\n",
       "    <tr>\n",
       "      <th>SYTL4</th>\n",
       "      <td>2.0</td>\n",
       "      <td>1.0</td>\n",
       "      <td>1.0</td>\n",
       "    </tr>\n",
       "    <tr>\n",
       "      <th>OTUD6B</th>\n",
       "      <td>2.0</td>\n",
       "      <td>1.0</td>\n",
       "      <td>1.0</td>\n",
       "    </tr>\n",
       "    <tr>\n",
       "      <th>LOC731823</th>\n",
       "      <td>0.0</td>\n",
       "      <td>0.0</td>\n",
       "      <td>0.0</td>\n",
       "    </tr>\n",
       "    <tr>\n",
       "      <th>C5ORF3</th>\n",
       "      <td>0.0</td>\n",
       "      <td>0.0</td>\n",
       "      <td>0.0</td>\n",
       "    </tr>\n",
       "    <tr>\n",
       "      <th>UFC1</th>\n",
       "      <td>0.0</td>\n",
       "      <td>0.0</td>\n",
       "      <td>0.0</td>\n",
       "    </tr>\n",
       "  </tbody>\n",
       "</table>\n",
       "</div>"
      ],
      "text/plain": [
       "           a_associated_FGF  b_regulates_FGF  c_Interacts_FGF\n",
       "geneName                                                     \n",
       "SYTL4                   2.0              1.0              1.0\n",
       "OTUD6B                  2.0              1.0              1.0\n",
       "LOC731823               0.0              0.0              0.0\n",
       "C5ORF3                  0.0              0.0              0.0\n",
       "UFC1                    0.0              0.0              0.0"
      ]
     },
     "execution_count": 23,
     "metadata": {},
     "output_type": "execute_result"
    }
   ],
   "source": [
    "FGF_responseDF_scores.head()"
   ]
  },
  {
   "cell_type": "code",
   "execution_count": 47,
   "metadata": {},
   "outputs": [
    {
     "data": {
      "text/html": [
       "<div>\n",
       "<style scoped>\n",
       "    .dataframe tbody tr th:only-of-type {\n",
       "        vertical-align: middle;\n",
       "    }\n",
       "\n",
       "    .dataframe tbody tr th {\n",
       "        vertical-align: top;\n",
       "    }\n",
       "\n",
       "    .dataframe thead th {\n",
       "        text-align: right;\n",
       "    }\n",
       "</style>\n",
       "<table border=\"1\" class=\"dataframe\">\n",
       "  <thead>\n",
       "    <tr style=\"text-align: right;\">\n",
       "      <th></th>\n",
       "      <th>a_associated_FGF</th>\n",
       "      <th>b_regulates_FGF</th>\n",
       "      <th>c_Interacts_FGF</th>\n",
       "    </tr>\n",
       "    <tr>\n",
       "      <th>geneName</th>\n",
       "      <th></th>\n",
       "      <th></th>\n",
       "      <th></th>\n",
       "    </tr>\n",
       "  </thead>\n",
       "  <tbody>\n",
       "    <tr>\n",
       "      <th>2-Sep</th>\n",
       "      <td>5.0</td>\n",
       "      <td>6.0</td>\n",
       "      <td>4.0</td>\n",
       "    </tr>\n",
       "  </tbody>\n",
       "</table>\n",
       "</div>"
      ],
      "text/plain": [
       "          a_associated_FGF  b_regulates_FGF  c_Interacts_FGF\n",
       "geneName                                                    \n",
       "2-Sep                  5.0              6.0              4.0"
      ]
     },
     "execution_count": 47,
     "metadata": {},
     "output_type": "execute_result"
    }
   ],
   "source": [
    "FGF_responseDF_scores.loc[FGF_responseDF_scores.index.str.contains(\"Sep\")]"
   ]
  },
  {
   "cell_type": "code",
   "execution_count": 24,
   "metadata": {},
   "outputs": [
    {
     "name": "stdout",
     "output_type": "stream",
     "text": [
      "[1 2 3 4 5 6 7 8 9] [1 2]\n"
     ]
    },
    {
     "data": {
      "text/html": [
       "<div>\n",
       "<style scoped>\n",
       "    .dataframe tbody tr th:only-of-type {\n",
       "        vertical-align: middle;\n",
       "    }\n",
       "\n",
       "    .dataframe tbody tr th {\n",
       "        vertical-align: top;\n",
       "    }\n",
       "\n",
       "    .dataframe thead th {\n",
       "        text-align: right;\n",
       "    }\n",
       "</style>\n",
       "<table border=\"1\" class=\"dataframe\">\n",
       "  <thead>\n",
       "    <tr style=\"text-align: right;\">\n",
       "      <th></th>\n",
       "      <th>score</th>\n",
       "      <th>questions</th>\n",
       "      <th>genes_filtered</th>\n",
       "    </tr>\n",
       "  </thead>\n",
       "  <tbody>\n",
       "    <tr>\n",
       "      <th>0</th>\n",
       "      <td>1</td>\n",
       "      <td>1</td>\n",
       "      <td>3768</td>\n",
       "    </tr>\n",
       "    <tr>\n",
       "      <th>1</th>\n",
       "      <td>1</td>\n",
       "      <td>2</td>\n",
       "      <td>3751</td>\n",
       "    </tr>\n",
       "    <tr>\n",
       "      <th>2</th>\n",
       "      <td>2</td>\n",
       "      <td>1</td>\n",
       "      <td>3206</td>\n",
       "    </tr>\n",
       "    <tr>\n",
       "      <th>3</th>\n",
       "      <td>2</td>\n",
       "      <td>2</td>\n",
       "      <td>1468</td>\n",
       "    </tr>\n",
       "    <tr>\n",
       "      <th>4</th>\n",
       "      <td>3</td>\n",
       "      <td>1</td>\n",
       "      <td>1311</td>\n",
       "    </tr>\n",
       "    <tr>\n",
       "      <th>5</th>\n",
       "      <td>3</td>\n",
       "      <td>2</td>\n",
       "      <td>362</td>\n",
       "    </tr>\n",
       "    <tr>\n",
       "      <th>6</th>\n",
       "      <td>4</td>\n",
       "      <td>1</td>\n",
       "      <td>364</td>\n",
       "    </tr>\n",
       "    <tr>\n",
       "      <th>7</th>\n",
       "      <td>4</td>\n",
       "      <td>2</td>\n",
       "      <td>171</td>\n",
       "    </tr>\n",
       "    <tr>\n",
       "      <th>8</th>\n",
       "      <td>5</td>\n",
       "      <td>1</td>\n",
       "      <td>197</td>\n",
       "    </tr>\n",
       "    <tr>\n",
       "      <th>9</th>\n",
       "      <td>5</td>\n",
       "      <td>2</td>\n",
       "      <td>77</td>\n",
       "    </tr>\n",
       "    <tr>\n",
       "      <th>10</th>\n",
       "      <td>6</td>\n",
       "      <td>1</td>\n",
       "      <td>87</td>\n",
       "    </tr>\n",
       "    <tr>\n",
       "      <th>11</th>\n",
       "      <td>6</td>\n",
       "      <td>2</td>\n",
       "      <td>39</td>\n",
       "    </tr>\n",
       "    <tr>\n",
       "      <th>12</th>\n",
       "      <td>7</td>\n",
       "      <td>1</td>\n",
       "      <td>54</td>\n",
       "    </tr>\n",
       "    <tr>\n",
       "      <th>13</th>\n",
       "      <td>7</td>\n",
       "      <td>2</td>\n",
       "      <td>14</td>\n",
       "    </tr>\n",
       "    <tr>\n",
       "      <th>14</th>\n",
       "      <td>8</td>\n",
       "      <td>1</td>\n",
       "      <td>14</td>\n",
       "    </tr>\n",
       "    <tr>\n",
       "      <th>15</th>\n",
       "      <td>8</td>\n",
       "      <td>2</td>\n",
       "      <td>6</td>\n",
       "    </tr>\n",
       "    <tr>\n",
       "      <th>16</th>\n",
       "      <td>9</td>\n",
       "      <td>1</td>\n",
       "      <td>6</td>\n",
       "    </tr>\n",
       "    <tr>\n",
       "      <th>17</th>\n",
       "      <td>9</td>\n",
       "      <td>2</td>\n",
       "      <td>0</td>\n",
       "    </tr>\n",
       "  </tbody>\n",
       "</table>\n",
       "</div>"
      ],
      "text/plain": [
       "    score  questions  genes_filtered\n",
       "0       1          1            3768\n",
       "1       1          2            3751\n",
       "2       2          1            3206\n",
       "3       2          2            1468\n",
       "4       3          1            1311\n",
       "5       3          2             362\n",
       "6       4          1             364\n",
       "7       4          2             171\n",
       "8       5          1             197\n",
       "9       5          2              77\n",
       "10      6          1              87\n",
       "11      6          2              39\n",
       "12      7          1              54\n",
       "13      7          2              14\n",
       "14      8          1              14\n",
       "15      8          2               6\n",
       "16      9          1               6\n",
       "17      9          2               0"
      ]
     },
     "execution_count": 24,
     "metadata": {},
     "output_type": "execute_result"
    }
   ],
   "source": [
    "score_Iter = np.arange(1,10,1)\n",
    "question_Iter = np.arange(1,len(score_cols),1)\n",
    "\n",
    "print (score_Iter, question_Iter)\n",
    "\n",
    "responseGenes = []\n",
    "for s in score_Iter:\n",
    "    for q in question_Iter:\n",
    "        res_num = FGF_responseDF_scores[FGF_responseDF_scores[FGF_responseDF_scores>=s].fillna(0).astype(bool).sum(axis=1)>=q].shape[0]\n",
    "        responseGenes.append([s,q,res_num])\n",
    "\n",
    "responseGenesDF = pd.DataFrame(responseGenes,columns=['score','questions','genes_filtered'])\n",
    "\n",
    "responseGenesDF"
   ]
  },
  {
   "cell_type": "markdown",
   "metadata": {},
   "source": [
    "### Filter 1: atleast 5 in one question"
   ]
  },
  {
   "cell_type": "code",
   "execution_count": 25,
   "metadata": {},
   "outputs": [
    {
     "name": "stdout",
     "output_type": "stream",
     "text": [
      "(9408, 3) (197, 3)\n"
     ]
    }
   ],
   "source": [
    "atL1_evd  = FGF_responseDF_scores[FGF_responseDF_scores[FGF_responseDF_scores>=5].fillna(0).astype(bool).sum(axis=1)>=1]\n",
    "print (FGF_responseDF_scores.shape, atL1_evd.shape)"
   ]
  },
  {
   "cell_type": "code",
   "execution_count": 26,
   "metadata": {},
   "outputs": [
    {
     "name": "stderr",
     "output_type": "stream",
     "text": [
      "/var/folders/t3/68lkvp7d7dlcctl6w91ml6yj8cs2fb/T/ipykernel_38929/2590807127.py:1: SettingWithCopyWarning: \n",
      "A value is trying to be set on a copy of a slice from a DataFrame.\n",
      "Try using .loc[row_indexer,col_indexer] = value instead\n",
      "\n",
      "See the caveats in the documentation: https://pandas.pydata.org/pandas-docs/stable/user_guide/indexing.html#returning-a-view-versus-a-copy\n",
      "  atL1_evd['totalScore'] = atL1_evd.sum(axis=1)\n"
     ]
    }
   ],
   "source": [
    "atL1_evd['totalScore'] = atL1_evd.sum(axis=1)\n",
    "atL1_evd.sort_values(by='totalScore')\n",
    "atL1_evd_annpt = atL1_evd.join(geneBase.loc[atL1_evd.index])"
   ]
  },
  {
   "cell_type": "code",
   "execution_count": 27,
   "metadata": {},
   "outputs": [
    {
     "data": {
      "text/html": [
       "<div>\n",
       "<style scoped>\n",
       "    .dataframe tbody tr th:only-of-type {\n",
       "        vertical-align: middle;\n",
       "    }\n",
       "\n",
       "    .dataframe tbody tr th {\n",
       "        vertical-align: top;\n",
       "    }\n",
       "\n",
       "    .dataframe thead th {\n",
       "        text-align: right;\n",
       "    }\n",
       "</style>\n",
       "<table border=\"1\" class=\"dataframe\">\n",
       "  <thead>\n",
       "    <tr style=\"text-align: right;\">\n",
       "      <th></th>\n",
       "      <th>a_associated_FGF</th>\n",
       "      <th>b_regulates_FGF</th>\n",
       "      <th>c_Interacts_FGF</th>\n",
       "      <th>totalScore</th>\n",
       "      <th>ModuleID</th>\n",
       "      <th>AggregateNumber</th>\n",
       "      <th>ModuleTitle</th>\n",
       "    </tr>\n",
       "    <tr>\n",
       "      <th>geneName</th>\n",
       "      <th></th>\n",
       "      <th></th>\n",
       "      <th></th>\n",
       "      <th></th>\n",
       "      <th></th>\n",
       "      <th></th>\n",
       "      <th></th>\n",
       "    </tr>\n",
       "  </thead>\n",
       "  <tbody>\n",
       "    <tr>\n",
       "      <th>FGF18</th>\n",
       "      <td>9.0</td>\n",
       "      <td>7.0</td>\n",
       "      <td>8.0</td>\n",
       "      <td>24.0</td>\n",
       "      <td>M16.97</td>\n",
       "      <td>A17</td>\n",
       "      <td>Cell death</td>\n",
       "    </tr>\n",
       "    <tr>\n",
       "      <th>IQGAP1</th>\n",
       "      <td>5.0</td>\n",
       "      <td>4.0</td>\n",
       "      <td>3.0</td>\n",
       "      <td>12.0</td>\n",
       "      <td>M13.1</td>\n",
       "      <td>A35</td>\n",
       "      <td>Inflammation</td>\n",
       "    </tr>\n",
       "    <tr>\n",
       "      <th>TXN</th>\n",
       "      <td>5.0</td>\n",
       "      <td>3.0</td>\n",
       "      <td>2.0</td>\n",
       "      <td>10.0</td>\n",
       "      <td>M13.1</td>\n",
       "      <td>A35</td>\n",
       "      <td>Inflammation</td>\n",
       "    </tr>\n",
       "    <tr>\n",
       "      <th>PPP2R4</th>\n",
       "      <td>5.0</td>\n",
       "      <td>3.0</td>\n",
       "      <td>4.0</td>\n",
       "      <td>12.0</td>\n",
       "      <td>M15.6</td>\n",
       "      <td>A7</td>\n",
       "      <td>Cell cycle</td>\n",
       "    </tr>\n",
       "    <tr>\n",
       "      <th>ECT2</th>\n",
       "      <td>5.0</td>\n",
       "      <td>4.0</td>\n",
       "      <td>3.0</td>\n",
       "      <td>12.0</td>\n",
       "      <td>M15.40</td>\n",
       "      <td>A6</td>\n",
       "      <td>Gene transcription</td>\n",
       "    </tr>\n",
       "    <tr>\n",
       "      <th>...</th>\n",
       "      <td>...</td>\n",
       "      <td>...</td>\n",
       "      <td>...</td>\n",
       "      <td>...</td>\n",
       "      <td>...</td>\n",
       "      <td>...</td>\n",
       "      <td>...</td>\n",
       "    </tr>\n",
       "    <tr>\n",
       "      <th>PAK1</th>\n",
       "      <td>7.0</td>\n",
       "      <td>5.0</td>\n",
       "      <td>4.0</td>\n",
       "      <td>16.0</td>\n",
       "      <td>M15.13</td>\n",
       "      <td>A33</td>\n",
       "      <td>TBD</td>\n",
       "    </tr>\n",
       "    <tr>\n",
       "      <th>DUSP5</th>\n",
       "      <td>5.0</td>\n",
       "      <td>3.0</td>\n",
       "      <td>2.0</td>\n",
       "      <td>10.0</td>\n",
       "      <td>M16.3</td>\n",
       "      <td>A6</td>\n",
       "      <td>T cells</td>\n",
       "    </tr>\n",
       "    <tr>\n",
       "      <th>2-Sep</th>\n",
       "      <td>5.0</td>\n",
       "      <td>6.0</td>\n",
       "      <td>4.0</td>\n",
       "      <td>15.0</td>\n",
       "      <td>M13.5</td>\n",
       "      <td>A32</td>\n",
       "      <td>Cell death</td>\n",
       "    </tr>\n",
       "    <tr>\n",
       "      <th>GAB2</th>\n",
       "      <td>7.0</td>\n",
       "      <td>5.0</td>\n",
       "      <td>6.0</td>\n",
       "      <td>18.0</td>\n",
       "      <td>M14.19</td>\n",
       "      <td>A33</td>\n",
       "      <td>Inflammation</td>\n",
       "    </tr>\n",
       "    <tr>\n",
       "      <th>JUN</th>\n",
       "      <td>7.0</td>\n",
       "      <td>8.0</td>\n",
       "      <td>5.0</td>\n",
       "      <td>20.0</td>\n",
       "      <td>M15.40</td>\n",
       "      <td>A6</td>\n",
       "      <td>Gene transcription</td>\n",
       "    </tr>\n",
       "  </tbody>\n",
       "</table>\n",
       "<p>197 rows × 7 columns</p>\n",
       "</div>"
      ],
      "text/plain": [
       "          a_associated_FGF  b_regulates_FGF  c_Interacts_FGF  totalScore  \\\n",
       "geneName                                                                   \n",
       "FGF18                  9.0              7.0              8.0        24.0   \n",
       "IQGAP1                 5.0              4.0              3.0        12.0   \n",
       "TXN                    5.0              3.0              2.0        10.0   \n",
       "PPP2R4                 5.0              3.0              4.0        12.0   \n",
       "ECT2                   5.0              4.0              3.0        12.0   \n",
       "...                    ...              ...              ...         ...   \n",
       "PAK1                   7.0              5.0              4.0        16.0   \n",
       "DUSP5                  5.0              3.0              2.0        10.0   \n",
       "2-Sep                  5.0              6.0              4.0        15.0   \n",
       "GAB2                   7.0              5.0              6.0        18.0   \n",
       "JUN                    7.0              8.0              5.0        20.0   \n",
       "\n",
       "         ModuleID AggregateNumber         ModuleTitle  \n",
       "geneName                                               \n",
       "FGF18      M16.97             A17          Cell death  \n",
       "IQGAP1      M13.1             A35        Inflammation  \n",
       "TXN         M13.1             A35        Inflammation  \n",
       "PPP2R4      M15.6              A7          Cell cycle  \n",
       "ECT2       M15.40              A6  Gene transcription  \n",
       "...           ...             ...                 ...  \n",
       "PAK1       M15.13             A33                 TBD  \n",
       "DUSP5       M16.3              A6             T cells  \n",
       "2-Sep       M13.5             A32          Cell death  \n",
       "GAB2       M14.19             A33        Inflammation  \n",
       "JUN        M15.40              A6  Gene transcription  \n",
       "\n",
       "[197 rows x 7 columns]"
      ]
     },
     "execution_count": 27,
     "metadata": {},
     "output_type": "execute_result"
    }
   ],
   "source": [
    "atL1_evd_annpt"
   ]
  },
  {
   "cell_type": "code",
   "execution_count": 49,
   "metadata": {},
   "outputs": [],
   "source": [
    "atL1_evd_annpt.to_csv(\"../data/openAI_result_curated/FGF/score_filtered_at1_l5.csv\")"
   ]
  },
  {
   "cell_type": "code",
   "execution_count": 28,
   "metadata": {},
   "outputs": [
    {
     "name": "stdout",
     "output_type": "stream",
     "text": [
      "Unique Modules: 122 \n",
      "Unique Aggregate:  26 \n",
      "Unique ModuleTitle :  25\n"
     ]
    }
   ],
   "source": [
    "print (\"Unique Modules:\",atL1_evd_annpt.ModuleID.nunique(),\\\n",
    "       \"\\nUnique Aggregate: \", atL1_evd_annpt.AggregateNumber.nunique(),\\\n",
    "        \"\\nUnique ModuleTitle : \", atL1_evd_annpt.ModuleTi1tle.nunique())"
   ]
  },
  {
   "cell_type": "code",
   "execution_count": 29,
   "metadata": {},
   "outputs": [
    {
     "name": "stderr",
     "output_type": "stream",
     "text": [
      "/Users/khant/JaX_work/StreamLitApp/geneLLM/openAIFunc/lib/python3.9/site-packages/altair/utils/core.py:410: FutureWarning: the convert_dtype parameter is deprecated and will be removed in a future version.  Do ``ser.astype(object).apply()`` instead if you want ``convert_dtype=False``.\n",
      "  col = df[col_name].apply(to_list_if_array, convert_dtype=False)\n"
     ]
    },
    {
     "data": {
      "text/html": [
       "\n",
       "<style>\n",
       "  #altair-viz-f3bc7e9dd615453a853d673aa10f59a6.vega-embed {\n",
       "    width: 100%;\n",
       "    display: flex;\n",
       "  }\n",
       "\n",
       "  #altair-viz-f3bc7e9dd615453a853d673aa10f59a6.vega-embed details,\n",
       "  #altair-viz-f3bc7e9dd615453a853d673aa10f59a6.vega-embed details summary {\n",
       "    position: relative;\n",
       "  }\n",
       "</style>\n",
       "<div id=\"altair-viz-f3bc7e9dd615453a853d673aa10f59a6\"></div>\n",
       "<script type=\"text/javascript\">\n",
       "  var VEGA_DEBUG = (typeof VEGA_DEBUG == \"undefined\") ? {} : VEGA_DEBUG;\n",
       "  (function(spec, embedOpt){\n",
       "    let outputDiv = document.currentScript.previousElementSibling;\n",
       "    if (outputDiv.id !== \"altair-viz-f3bc7e9dd615453a853d673aa10f59a6\") {\n",
       "      outputDiv = document.getElementById(\"altair-viz-f3bc7e9dd615453a853d673aa10f59a6\");\n",
       "    }\n",
       "    const paths = {\n",
       "      \"vega\": \"https://cdn.jsdelivr.net/npm/vega@5?noext\",\n",
       "      \"vega-lib\": \"https://cdn.jsdelivr.net/npm/vega-lib?noext\",\n",
       "      \"vega-lite\": \"https://cdn.jsdelivr.net/npm/vega-lite@5.14.1?noext\",\n",
       "      \"vega-embed\": \"https://cdn.jsdelivr.net/npm/vega-embed@6?noext\",\n",
       "    };\n",
       "\n",
       "    function maybeLoadScript(lib, version) {\n",
       "      var key = `${lib.replace(\"-\", \"\")}_version`;\n",
       "      return (VEGA_DEBUG[key] == version) ?\n",
       "        Promise.resolve(paths[lib]) :\n",
       "        new Promise(function(resolve, reject) {\n",
       "          var s = document.createElement('script');\n",
       "          document.getElementsByTagName(\"head\")[0].appendChild(s);\n",
       "          s.async = true;\n",
       "          s.onload = () => {\n",
       "            VEGA_DEBUG[key] = version;\n",
       "            return resolve(paths[lib]);\n",
       "          };\n",
       "          s.onerror = () => reject(`Error loading script: ${paths[lib]}`);\n",
       "          s.src = paths[lib];\n",
       "        });\n",
       "    }\n",
       "\n",
       "    function showError(err) {\n",
       "      outputDiv.innerHTML = `<div class=\"error\" style=\"color:red;\">${err}</div>`;\n",
       "      throw err;\n",
       "    }\n",
       "\n",
       "    function displayChart(vegaEmbed) {\n",
       "      vegaEmbed(outputDiv, spec, embedOpt)\n",
       "        .catch(err => showError(`Javascript Error: ${err.message}<br>This usually means there's a typo in your chart specification. See the javascript console for the full traceback.`));\n",
       "    }\n",
       "\n",
       "    if(typeof define === \"function\" && define.amd) {\n",
       "      requirejs.config({paths});\n",
       "      require([\"vega-embed\"], displayChart, err => showError(`Error loading script: ${err.message}`));\n",
       "    } else {\n",
       "      maybeLoadScript(\"vega\", \"5\")\n",
       "        .then(() => maybeLoadScript(\"vega-lite\", \"5.14.1\"))\n",
       "        .then(() => maybeLoadScript(\"vega-embed\", \"6\"))\n",
       "        .catch(showError)\n",
       "        .then(() => displayChart(vegaEmbed));\n",
       "    }\n",
       "  })({\"config\": {\"view\": {\"continuousWidth\": 300, \"continuousHeight\": 300}}, \"vconcat\": [{\"layer\": [{\"mark\": {\"type\": \"bar\"}, \"encoding\": {\"x\": {\"axis\": {\"labels\": false, \"title\": \"\"}, \"field\": \"ModuleTitle\", \"sort\": [\"Platelet/Prostaglandin\", \"Platelet\", \"Leukocyte activation\", \"TBD\", \"Proteolysis\", \"Protein modification\", \"Cell cycle\", \"Prostanoids\", \"Erythrocytes\", \"Gene transcription\", \"Oxidative phosphorylation\", \"T cells\", \"Antigen presentation\", \"Inflammation\", \"Oxidative stress\", \"Neutrophils\", \"Cell death\", \"Protein synthesis\", \"Cytotoxic lymphocytes\", \"Cytokines/chemokines\", \"Protein phosphorylation\", \"Cell adhesion\", \"Lipid metabolism\", \"Monocytes\", \"B cells\"], \"type\": \"nominal\"}, \"y\": {\"aggregate\": \"count\", \"axis\": {\"title\": \"Gene Count\"}, \"field\": \"ModuleID\", \"type\": \"nominal\"}}}, {\"mark\": {\"type\": \"text\", \"align\": \"center\", \"baseline\": \"middle\", \"dy\": -5, \"size\": 14}, \"encoding\": {\"text\": {\"aggregate\": \"count\", \"field\": \"ModuleID\", \"type\": \"nominal\"}, \"x\": {\"axis\": {\"labels\": false, \"title\": \"\"}, \"field\": \"ModuleTitle\", \"sort\": [\"Platelet/Prostaglandin\", \"Platelet\", \"Leukocyte activation\", \"TBD\", \"Proteolysis\", \"Protein modification\", \"Cell cycle\", \"Prostanoids\", \"Erythrocytes\", \"Gene transcription\", \"Oxidative phosphorylation\", \"T cells\", \"Antigen presentation\", \"Inflammation\", \"Oxidative stress\", \"Neutrophils\", \"Cell death\", \"Protein synthesis\", \"Cytotoxic lymphocytes\", \"Cytokines/chemokines\", \"Protein phosphorylation\", \"Cell adhesion\", \"Lipid metabolism\", \"Monocytes\", \"B cells\"], \"type\": \"nominal\"}, \"y\": {\"aggregate\": \"count\", \"axis\": {\"title\": \"Gene Count\"}, \"field\": \"ModuleID\", \"type\": \"nominal\"}}}], \"height\": 150}, {\"layer\": [{\"mark\": {\"type\": \"bar\"}, \"encoding\": {\"x\": {\"axis\": {\"labels\": false, \"title\": \"\"}, \"field\": \"ModuleTitle\", \"sort\": [\"Platelet/Prostaglandin\", \"Platelet\", \"Leukocyte activation\", \"TBD\", \"Proteolysis\", \"Protein modification\", \"Cell cycle\", \"Prostanoids\", \"Erythrocytes\", \"Gene transcription\", \"Oxidative phosphorylation\", \"T cells\", \"Antigen presentation\", \"Inflammation\", \"Oxidative stress\", \"Neutrophils\", \"Cell death\", \"Protein synthesis\", \"Cytotoxic lymphocytes\", \"Cytokines/chemokines\", \"Protein phosphorylation\", \"Cell adhesion\", \"Lipid metabolism\", \"Monocytes\", \"B cells\"], \"type\": \"nominal\"}, \"y\": {\"aggregate\": \"distinct\", \"axis\": {\"title\": \"Module Count\"}, \"field\": \"ModuleID\", \"type\": \"nominal\"}}}, {\"mark\": {\"type\": \"text\", \"align\": \"center\", \"baseline\": \"middle\", \"dy\": -5, \"size\": 14}, \"encoding\": {\"text\": {\"aggregate\": \"distinct\", \"field\": \"ModuleID\", \"type\": \"nominal\"}, \"x\": {\"axis\": {\"labels\": false, \"title\": \"\"}, \"field\": \"ModuleTitle\", \"sort\": [\"Platelet/Prostaglandin\", \"Platelet\", \"Leukocyte activation\", \"TBD\", \"Proteolysis\", \"Protein modification\", \"Cell cycle\", \"Prostanoids\", \"Erythrocytes\", \"Gene transcription\", \"Oxidative phosphorylation\", \"T cells\", \"Antigen presentation\", \"Inflammation\", \"Oxidative stress\", \"Neutrophils\", \"Cell death\", \"Protein synthesis\", \"Cytotoxic lymphocytes\", \"Cytokines/chemokines\", \"Protein phosphorylation\", \"Cell adhesion\", \"Lipid metabolism\", \"Monocytes\", \"B cells\"], \"type\": \"nominal\"}, \"y\": {\"aggregate\": \"distinct\", \"axis\": {\"title\": \"Module Count\"}, \"field\": \"ModuleID\", \"type\": \"nominal\"}}}], \"height\": 150}, {\"mark\": {\"type\": \"boxplot\"}, \"encoding\": {\"x\": {\"axis\": {\"labelFontSize\": 14, \"title\": \"Module Function Title\", \"titleFontSize\": 10}, \"field\": \"ModuleTitle\", \"sort\": [\"Platelet/Prostaglandin\", \"Platelet\", \"Leukocyte activation\", \"TBD\", \"Proteolysis\", \"Protein modification\", \"Cell cycle\", \"Prostanoids\", \"Erythrocytes\", \"Gene transcription\", \"Oxidative phosphorylation\", \"T cells\", \"Antigen presentation\", \"Inflammation\", \"Oxidative stress\", \"Neutrophils\", \"Cell death\", \"Protein synthesis\", \"Cytotoxic lymphocytes\", \"Cytokines/chemokines\", \"Protein phosphorylation\", \"Cell adhesion\", \"Lipid metabolism\", \"Monocytes\", \"B cells\"], \"type\": \"nominal\"}, \"y\": {\"field\": \"totalScore\", \"type\": \"quantitative\"}}, \"height\": 200}], \"data\": {\"name\": \"data-d9598e13098b41b2780b2c8c33f28d8f\"}, \"resolve\": {\"scale\": {\"x\": \"shared\"}}, \"$schema\": \"https://vega.github.io/schema/vega-lite/v5.14.1.json\", \"datasets\": {\"data-d9598e13098b41b2780b2c8c33f28d8f\": [{\"a_associated_FGF\": 9.0, \"b_regulates_FGF\": 7.0, \"c_Interacts_FGF\": 8.0, \"totalScore\": 24.0, \"ModuleID\": \"M16.97\", \"AggregateNumber\": \"A17\", \"ModuleTitle\": \"Cell death\"}, {\"a_associated_FGF\": 5.0, \"b_regulates_FGF\": 4.0, \"c_Interacts_FGF\": 3.0, \"totalScore\": 12.0, \"ModuleID\": \"M13.1\", \"AggregateNumber\": \"A35\", \"ModuleTitle\": \"Inflammation\"}, {\"a_associated_FGF\": 5.0, \"b_regulates_FGF\": 3.0, \"c_Interacts_FGF\": 2.0, \"totalScore\": 10.0, \"ModuleID\": \"M13.1\", \"AggregateNumber\": \"A35\", \"ModuleTitle\": \"Inflammation\"}, {\"a_associated_FGF\": 5.0, \"b_regulates_FGF\": 3.0, \"c_Interacts_FGF\": 4.0, \"totalScore\": 12.0, \"ModuleID\": \"M15.6\", \"AggregateNumber\": \"A7\", \"ModuleTitle\": \"Cell cycle\"}, {\"a_associated_FGF\": 5.0, \"b_regulates_FGF\": 4.0, \"c_Interacts_FGF\": 3.0, \"totalScore\": 12.0, \"ModuleID\": \"M15.40\", \"AggregateNumber\": \"A6\", \"ModuleTitle\": \"Gene transcription\"}, {\"a_associated_FGF\": 5.0, \"b_regulates_FGF\": 3.0, \"c_Interacts_FGF\": 2.0, \"totalScore\": 10.0, \"ModuleID\": \"M13.11\", \"AggregateNumber\": \"A26\", \"ModuleTitle\": \"TBD\"}, {\"a_associated_FGF\": 6.0, \"b_regulates_FGF\": 4.0, \"c_Interacts_FGF\": 5.0, \"totalScore\": 15.0, \"ModuleID\": \"M13.2\", \"AggregateNumber\": \"A1\", \"ModuleTitle\": \"Gene transcription\"}, {\"a_associated_FGF\": 5.0, \"b_regulates_FGF\": 4.0, \"c_Interacts_FGF\": 3.0, \"totalScore\": 12.0, \"ModuleID\": \"M14.39\", \"AggregateNumber\": \"A34\", \"ModuleTitle\": \"Cell cycle\"}, {\"a_associated_FGF\": 5.0, \"b_regulates_FGF\": 5.0, \"c_Interacts_FGF\": 5.0, \"totalScore\": 15.0, \"ModuleID\": \"M13.5\", \"AggregateNumber\": \"A32\", \"ModuleTitle\": \"Cell death\"}, {\"a_associated_FGF\": 5.0, \"b_regulates_FGF\": 3.0, \"c_Interacts_FGF\": 2.0, \"totalScore\": 10.0, \"ModuleID\": \"M15.80\", \"AggregateNumber\": \"A6\", \"ModuleTitle\": \"TBD\"}, {\"a_associated_FGF\": 5.0, \"b_regulates_FGF\": 4.0, \"c_Interacts_FGF\": 3.0, \"totalScore\": 12.0, \"ModuleID\": \"M16.10\", \"AggregateNumber\": \"A3\", \"ModuleTitle\": \"TBD\"}, {\"a_associated_FGF\": 5.0, \"b_regulates_FGF\": 4.0, \"c_Interacts_FGF\": 3.0, \"totalScore\": 12.0, \"ModuleID\": \"M16.86\", \"AggregateNumber\": \"A29\", \"ModuleTitle\": \"Oxidative stress\"}, {\"a_associated_FGF\": 5.0, \"b_regulates_FGF\": 4.0, \"c_Interacts_FGF\": 3.0, \"totalScore\": 12.0, \"ModuleID\": \"M14.79\", \"AggregateNumber\": \"A2\", \"ModuleTitle\": \"Protein synthesis\"}, {\"a_associated_FGF\": 5.0, \"b_regulates_FGF\": 4.0, \"c_Interacts_FGF\": 3.0, \"totalScore\": 12.0, \"ModuleID\": \"M16.45\", \"AggregateNumber\": \"A3\", \"ModuleTitle\": \"TBD\"}, {\"a_associated_FGF\": 9.0, \"b_regulates_FGF\": 7.0, \"c_Interacts_FGF\": 8.0, \"totalScore\": 24.0, \"ModuleID\": \"M16.11\", \"AggregateNumber\": \"A4\", \"ModuleTitle\": \"Protein synthesis\"}, {\"a_associated_FGF\": 5.0, \"b_regulates_FGF\": 3.0, \"c_Interacts_FGF\": 4.0, \"totalScore\": 12.0, \"ModuleID\": \"M14.22\", \"AggregateNumber\": \"A32\", \"ModuleTitle\": \"TBD\"}, {\"a_associated_FGF\": 5.0, \"b_regulates_FGF\": 3.0, \"c_Interacts_FGF\": 4.0, \"totalScore\": 12.0, \"ModuleID\": \"M13.23\", \"AggregateNumber\": \"A3\", \"ModuleTitle\": \"TBD\"}, {\"a_associated_FGF\": 7.0, \"b_regulates_FGF\": 5.0, \"c_Interacts_FGF\": 4.0, \"totalScore\": 16.0, \"ModuleID\": \"M15.6\", \"AggregateNumber\": \"A7\", \"ModuleTitle\": \"Cell cycle\"}, {\"a_associated_FGF\": 5.0, \"b_regulates_FGF\": 4.0, \"c_Interacts_FGF\": 3.0, \"totalScore\": 12.0, \"ModuleID\": \"M15.2\", \"AggregateNumber\": \"A6\", \"ModuleTitle\": \"TBD\"}, {\"a_associated_FGF\": 5.0, \"b_regulates_FGF\": 3.0, \"c_Interacts_FGF\": 4.0, \"totalScore\": 12.0, \"ModuleID\": \"M15.57\", \"AggregateNumber\": \"A26\", \"ModuleTitle\": \"TBD\"}, {\"a_associated_FGF\": 5.0, \"b_regulates_FGF\": 3.0, \"c_Interacts_FGF\": 4.0, \"totalScore\": 12.0, \"ModuleID\": \"M12.5\", \"AggregateNumber\": \"A3\", \"ModuleTitle\": \"Protein modification\"}, {\"a_associated_FGF\": 5.0, \"b_regulates_FGF\": 4.0, \"c_Interacts_FGF\": 3.0, \"totalScore\": 12.0, \"ModuleID\": \"M14.66\", \"AggregateNumber\": \"A33\", \"ModuleTitle\": \"Inflammation\"}, {\"a_associated_FGF\": 7.0, \"b_regulates_FGF\": 6.0, \"c_Interacts_FGF\": 5.0, \"totalScore\": 18.0, \"ModuleID\": \"M14.1\", \"AggregateNumber\": \"A32\", \"ModuleTitle\": \"Gene transcription\"}, {\"a_associated_FGF\": 5.0, \"b_regulates_FGF\": 3.0, \"c_Interacts_FGF\": 2.0, \"totalScore\": 10.0, \"ModuleID\": \"M14.76\", \"AggregateNumber\": \"A33\", \"ModuleTitle\": \"Leukocyte activation\"}, {\"a_associated_FGF\": 7.0, \"b_regulates_FGF\": 5.0, \"c_Interacts_FGF\": 4.0, \"totalScore\": 16.0, \"ModuleID\": \"M12.9\", \"AggregateNumber\": \"A38\", \"ModuleTitle\": \"Protein phosphorylation\"}, {\"a_associated_FGF\": 6.0, \"b_regulates_FGF\": 4.0, \"c_Interacts_FGF\": 5.0, \"totalScore\": 15.0, \"ModuleID\": \"M3.1\", \"AggregateNumber\": \"A29\", \"ModuleTitle\": \"Cell cycle\"}, {\"a_associated_FGF\": 5.0, \"b_regulates_FGF\": 4.0, \"c_Interacts_FGF\": 3.0, \"totalScore\": 12.0, \"ModuleID\": \"M8.2\", \"AggregateNumber\": \"A34\", \"ModuleTitle\": \"Prostanoids\"}, {\"a_associated_FGF\": 6.0, \"b_regulates_FGF\": 4.0, \"c_Interacts_FGF\": 5.0, \"totalScore\": 15.0, \"ModuleID\": \"M15.113\", \"AggregateNumber\": \"A35\", \"ModuleTitle\": \"Inflammation\"}, {\"a_associated_FGF\": 5.0, \"b_regulates_FGF\": 3.0, \"c_Interacts_FGF\": 4.0, \"totalScore\": 12.0, \"ModuleID\": \"M16.1\", \"AggregateNumber\": \"A33\", \"ModuleTitle\": \"TBD\"}, {\"a_associated_FGF\": 5.0, \"b_regulates_FGF\": 4.0, \"c_Interacts_FGF\": 3.0, \"totalScore\": 12.0, \"ModuleID\": \"M9.2\", \"AggregateNumber\": \"A37\", \"ModuleTitle\": \"Erythrocytes\"}, {\"a_associated_FGF\": 7.0, \"b_regulates_FGF\": 5.0, \"c_Interacts_FGF\": 4.0, \"totalScore\": 16.0, \"ModuleID\": \"M15.10\", \"AggregateNumber\": \"A6\", \"ModuleTitle\": \"Gene transcription\"}, {\"a_associated_FGF\": 5.0, \"b_regulates_FGF\": 3.0, \"c_Interacts_FGF\": 4.0, \"totalScore\": 12.0, \"ModuleID\": \"M16.85\", \"AggregateNumber\": \"A32\", \"ModuleTitle\": \"TBD\"}, {\"a_associated_FGF\": 7.0, \"b_regulates_FGF\": 5.0, \"c_Interacts_FGF\": 4.0, \"totalScore\": 16.0, \"ModuleID\": \"M15.8\", \"AggregateNumber\": \"A2\", \"ModuleTitle\": \"Gene transcription\"}, {\"a_associated_FGF\": 5.0, \"b_regulates_FGF\": 4.0, \"c_Interacts_FGF\": 3.0, \"totalScore\": 12.0, \"ModuleID\": \"M14.36\", \"AggregateNumber\": \"A32\", \"ModuleTitle\": \"TBD\"}, {\"a_associated_FGF\": 6.0, \"b_regulates_FGF\": 4.0, \"c_Interacts_FGF\": 3.0, \"totalScore\": 13.0, \"ModuleID\": \"M12.10\", \"AggregateNumber\": \"A35\", \"ModuleTitle\": \"Inflammation\"}, {\"a_associated_FGF\": 7.0, \"b_regulates_FGF\": 5.0, \"c_Interacts_FGF\": 6.0, \"totalScore\": 18.0, \"ModuleID\": \"M14.3\", \"AggregateNumber\": \"A2\", \"ModuleTitle\": \"Protein modification\"}, {\"a_associated_FGF\": 7.0, \"b_regulates_FGF\": 8.0, \"c_Interacts_FGF\": 5.0, \"totalScore\": 20.0, \"ModuleID\": \"M16.100\", \"AggregateNumber\": \"A33\", \"ModuleTitle\": \"TBD\"}, {\"a_associated_FGF\": 6.0, \"b_regulates_FGF\": 4.0, \"c_Interacts_FGF\": 5.0, \"totalScore\": 15.0, \"ModuleID\": \"M13.19\", \"AggregateNumber\": \"A30\", \"ModuleTitle\": \"Protein phosphorylation\"}, {\"a_associated_FGF\": 6.0, \"b_regulates_FGF\": 4.0, \"c_Interacts_FGF\": 5.0, \"totalScore\": 15.0, \"ModuleID\": \"M15.5\", \"AggregateNumber\": \"A5\", \"ModuleTitle\": \"Protein modification\"}, {\"a_associated_FGF\": 6.5, \"b_regulates_FGF\": 5.0, \"c_Interacts_FGF\": 4.0, \"totalScore\": 15.5, \"ModuleID\": \"M8.1\", \"AggregateNumber\": \"A29\", \"ModuleTitle\": \"TBD\"}, {\"a_associated_FGF\": 5.0, \"b_regulates_FGF\": 4.0, \"c_Interacts_FGF\": 3.0, \"totalScore\": 12.0, \"ModuleID\": \"M13.21\", \"AggregateNumber\": \"A2\", \"ModuleTitle\": \"Cytotoxic lymphocytes\"}, {\"a_associated_FGF\": 5.0, \"b_regulates_FGF\": 3.0, \"c_Interacts_FGF\": 4.0, \"totalScore\": 12.0, \"ModuleID\": \"M15.36\", \"AggregateNumber\": \"A26\", \"ModuleTitle\": \"Protein modification\"}, {\"a_associated_FGF\": 7.0, \"b_regulates_FGF\": 5.0, \"c_Interacts_FGF\": 4.0, \"totalScore\": 16.0, \"ModuleID\": \"M15.14\", \"AggregateNumber\": \"A33\", \"ModuleTitle\": \"TBD\"}, {\"a_associated_FGF\": 8.0, \"b_regulates_FGF\": 5.0, \"c_Interacts_FGF\": 9.0, \"totalScore\": 22.0, \"ModuleID\": \"M13.19\", \"AggregateNumber\": \"A30\", \"ModuleTitle\": \"Protein phosphorylation\"}, {\"a_associated_FGF\": 5.0, \"b_regulates_FGF\": 4.0, \"c_Interacts_FGF\": 3.0, \"totalScore\": 12.0, \"ModuleID\": \"M14.12\", \"AggregateNumber\": \"A1\", \"ModuleTitle\": \"Cell cycle\"}, {\"a_associated_FGF\": 5.0, \"b_regulates_FGF\": 3.0, \"c_Interacts_FGF\": 4.0, \"totalScore\": 12.0, \"ModuleID\": \"M13.25\", \"AggregateNumber\": \"A32\", \"ModuleTitle\": \"Protein phosphorylation\"}, {\"a_associated_FGF\": 5.0, \"b_regulates_FGF\": 3.0, \"c_Interacts_FGF\": 2.0, \"totalScore\": 10.0, \"ModuleID\": \"M13.3\", \"AggregateNumber\": \"A35\", \"ModuleTitle\": \"TBD\"}, {\"a_associated_FGF\": 5.0, \"b_regulates_FGF\": 3.0, \"c_Interacts_FGF\": 4.0, \"totalScore\": 12.0, \"ModuleID\": \"M15.125\", \"AggregateNumber\": \"A12\", \"ModuleTitle\": \"TBD\"}, {\"a_associated_FGF\": 5.0, \"b_regulates_FGF\": 3.0, \"c_Interacts_FGF\": 4.0, \"totalScore\": 12.0, \"ModuleID\": \"M11.2\", \"AggregateNumber\": \"A37\", \"ModuleTitle\": \"TBD\"}, {\"a_associated_FGF\": 5.0, \"b_regulates_FGF\": 4.0, \"c_Interacts_FGF\": 3.0, \"totalScore\": 12.0, \"ModuleID\": \"M13.19\", \"AggregateNumber\": \"A30\", \"ModuleTitle\": \"Protein phosphorylation\"}, {\"a_associated_FGF\": 6.0, \"b_regulates_FGF\": 4.0, \"c_Interacts_FGF\": 7.0, \"totalScore\": 17.0, \"ModuleID\": \"M13.7\", \"AggregateNumber\": \"A33\", \"ModuleTitle\": \"TBD\"}, {\"a_associated_FGF\": 5.0, \"b_regulates_FGF\": 4.0, \"c_Interacts_FGF\": 3.0, \"totalScore\": 12.0, \"ModuleID\": \"M16.48\", \"AggregateNumber\": \"A21\", \"ModuleTitle\": \"TBD\"}, {\"a_associated_FGF\": 4.0, \"b_regulates_FGF\": 3.0, \"c_Interacts_FGF\": 5.0, \"totalScore\": 12.0, \"ModuleID\": \"M16.8\", \"AggregateNumber\": \"A6\", \"ModuleTitle\": \"TBD\"}, {\"a_associated_FGF\": 5.0, \"b_regulates_FGF\": 4.0, \"c_Interacts_FGF\": 3.0, \"totalScore\": 12.0, \"ModuleID\": \"M16.3\", \"AggregateNumber\": \"A6\", \"ModuleTitle\": \"T cells\"}, {\"a_associated_FGF\": 5.0, \"b_regulates_FGF\": 3.0, \"c_Interacts_FGF\": 2.0, \"totalScore\": 10.0, \"ModuleID\": \"M13.5\", \"AggregateNumber\": \"A32\", \"ModuleTitle\": \"Cell death\"}, {\"a_associated_FGF\": 4.0, \"b_regulates_FGF\": 2.0, \"c_Interacts_FGF\": 5.0, \"totalScore\": 11.0, \"ModuleID\": \"M14.55\", \"AggregateNumber\": \"A6\", \"ModuleTitle\": \"Gene transcription\"}, {\"a_associated_FGF\": 5.0, \"b_regulates_FGF\": 4.0, \"c_Interacts_FGF\": 3.0, \"totalScore\": 12.0, \"ModuleID\": \"M14.2\", \"AggregateNumber\": \"A2\", \"ModuleTitle\": \"Protein synthesis\"}, {\"a_associated_FGF\": 7.0, \"b_regulates_FGF\": 5.0, \"c_Interacts_FGF\": 6.0, \"totalScore\": 18.0, \"ModuleID\": \"M16.2\", \"AggregateNumber\": \"A32\", \"ModuleTitle\": \"Protein synthesis\"}, {\"a_associated_FGF\": 7.0, \"b_regulates_FGF\": 5.0, \"c_Interacts_FGF\": 6.0, \"totalScore\": 18.0, \"ModuleID\": \"M15.42\", \"AggregateNumber\": \"A6\", \"ModuleTitle\": \"Gene transcription\"}, {\"a_associated_FGF\": 5.0, \"b_regulates_FGF\": 3.0, \"c_Interacts_FGF\": 2.0, \"totalScore\": 10.0, \"ModuleID\": \"M15.45\", \"AggregateNumber\": \"A6\", \"ModuleTitle\": \"Platelet\"}, {\"a_associated_FGF\": 5.0, \"b_regulates_FGF\": 3.0, \"c_Interacts_FGF\": 4.0, \"totalScore\": 12.0, \"ModuleID\": \"M14.18\", \"AggregateNumber\": \"A32\", \"ModuleTitle\": \"TBD\"}, {\"a_associated_FGF\": 7.0, \"b_regulates_FGF\": 5.0, \"c_Interacts_FGF\": 4.0, \"totalScore\": 16.0, \"ModuleID\": \"M12.9\", \"AggregateNumber\": \"A38\", \"ModuleTitle\": \"Protein phosphorylation\"}, {\"a_associated_FGF\": 7.0, \"b_regulates_FGF\": 5.0, \"c_Interacts_FGF\": 4.0, \"totalScore\": 16.0, \"ModuleID\": \"M16.1\", \"AggregateNumber\": \"A33\", \"ModuleTitle\": \"TBD\"}, {\"a_associated_FGF\": 5.0, \"b_regulates_FGF\": 4.0, \"c_Interacts_FGF\": 3.0, \"totalScore\": 12.0, \"ModuleID\": \"M15.6\", \"AggregateNumber\": \"A7\", \"ModuleTitle\": \"Cell cycle\"}, {\"a_associated_FGF\": 5.0, \"b_regulates_FGF\": 4.0, \"c_Interacts_FGF\": 3.0, \"totalScore\": 12.0, \"ModuleID\": \"M13.7\", \"AggregateNumber\": \"A33\", \"ModuleTitle\": \"TBD\"}, {\"a_associated_FGF\": 7.0, \"b_regulates_FGF\": 6.0, \"c_Interacts_FGF\": 5.0, \"totalScore\": 18.0, \"ModuleID\": \"M14.18\", \"AggregateNumber\": \"A32\", \"ModuleTitle\": \"TBD\"}, {\"a_associated_FGF\": 6.0, \"b_regulates_FGF\": 5.0, \"c_Interacts_FGF\": 4.0, \"totalScore\": 15.0, \"ModuleID\": \"M13.12\", \"AggregateNumber\": \"A35\", \"ModuleTitle\": \"Inflammation\"}, {\"a_associated_FGF\": 5.0, \"b_regulates_FGF\": 4.0, \"c_Interacts_FGF\": 3.0, \"totalScore\": 12.0, \"ModuleID\": \"M14.17\", \"AggregateNumber\": \"A2\", \"ModuleTitle\": \"Gene transcription\"}, {\"a_associated_FGF\": 6.0, \"b_regulates_FGF\": 5.0, \"c_Interacts_FGF\": 4.0, \"totalScore\": 15.0, \"ModuleID\": \"M13.5\", \"AggregateNumber\": \"A32\", \"ModuleTitle\": \"Cell death\"}, {\"a_associated_FGF\": 5.0, \"b_regulates_FGF\": 4.0, \"c_Interacts_FGF\": 3.0, \"totalScore\": 12.0, \"ModuleID\": \"M15.10\", \"AggregateNumber\": \"A6\", \"ModuleTitle\": \"Gene transcription\"}, {\"a_associated_FGF\": 8.0, \"b_regulates_FGF\": 7.0, \"c_Interacts_FGF\": 6.0, \"totalScore\": 21.0, \"ModuleID\": \"M13.1\", \"AggregateNumber\": \"A35\", \"ModuleTitle\": \"Inflammation\"}, {\"a_associated_FGF\": 7.0, \"b_regulates_FGF\": 5.0, \"c_Interacts_FGF\": 4.0, \"totalScore\": 16.0, \"ModuleID\": \"M16.1\", \"AggregateNumber\": \"A33\", \"ModuleTitle\": \"TBD\"}, {\"a_associated_FGF\": 6.0, \"b_regulates_FGF\": 5.0, \"c_Interacts_FGF\": 3.0, \"totalScore\": 14.0, \"ModuleID\": \"M13.22\", \"AggregateNumber\": \"A35\", \"ModuleTitle\": \"Neutrophils\"}, {\"a_associated_FGF\": 5.0, \"b_regulates_FGF\": 4.0, \"c_Interacts_FGF\": 3.0, \"totalScore\": 12.0, \"ModuleID\": \"M16.14\", \"AggregateNumber\": \"A6\", \"ModuleTitle\": \"TBD\"}, {\"a_associated_FGF\": 5.0, \"b_regulates_FGF\": 4.0, \"c_Interacts_FGF\": 3.0, \"totalScore\": 12.0, \"ModuleID\": \"M16.46\", \"AggregateNumber\": \"A26\", \"ModuleTitle\": \"TBD\"}, {\"a_associated_FGF\": 5.0, \"b_regulates_FGF\": 4.0, \"c_Interacts_FGF\": 3.0, \"totalScore\": 12.0, \"ModuleID\": \"M8.2\", \"AggregateNumber\": \"A34\", \"ModuleTitle\": \"Prostanoids\"}, {\"a_associated_FGF\": 5.0, \"b_regulates_FGF\": 4.0, \"c_Interacts_FGF\": 3.0, \"totalScore\": 12.0, \"ModuleID\": \"M13.3\", \"AggregateNumber\": \"A35\", \"ModuleTitle\": \"TBD\"}, {\"a_associated_FGF\": 6.0, \"b_regulates_FGF\": 4.0, \"c_Interacts_FGF\": 3.0, \"totalScore\": 13.0, \"ModuleID\": \"M14.4\", \"AggregateNumber\": \"A1\", \"ModuleTitle\": \"Gene transcription\"}, {\"a_associated_FGF\": 6.0, \"b_regulates_FGF\": 4.0, \"c_Interacts_FGF\": 3.0, \"totalScore\": 13.0, \"ModuleID\": \"M16.7\", \"AggregateNumber\": \"A2\", \"ModuleTitle\": \"TBD\"}, {\"a_associated_FGF\": 7.0, \"b_regulates_FGF\": 4.0, \"c_Interacts_FGF\": 6.0, \"totalScore\": 17.0, \"ModuleID\": \"M16.84\", \"AggregateNumber\": \"A5\", \"ModuleTitle\": \"Protein phosphorylation\"}, {\"a_associated_FGF\": 7.0, \"b_regulates_FGF\": 6.0, \"c_Interacts_FGF\": 5.0, \"totalScore\": 18.0, \"ModuleID\": \"M13.1\", \"AggregateNumber\": \"A35\", \"ModuleTitle\": \"Inflammation\"}, {\"a_associated_FGF\": 7.0, \"b_regulates_FGF\": 5.0, \"c_Interacts_FGF\": 8.0, \"totalScore\": 20.0, \"ModuleID\": \"M9.1\", \"AggregateNumber\": \"A2\", \"ModuleTitle\": \"Cytotoxic lymphocytes\"}, {\"a_associated_FGF\": 7.0, \"b_regulates_FGF\": 4.0, \"c_Interacts_FGF\": 5.0, \"totalScore\": 16.0, \"ModuleID\": \"M15.13\", \"AggregateNumber\": \"A33\", \"ModuleTitle\": \"TBD\"}, {\"a_associated_FGF\": 5.0, \"b_regulates_FGF\": 3.0, \"c_Interacts_FGF\": 4.0, \"totalScore\": 12.0, \"ModuleID\": \"M14.56\", \"AggregateNumber\": \"A32\", \"ModuleTitle\": \"TBD\"}, {\"a_associated_FGF\": 5.0, \"b_regulates_FGF\": 4.0, \"c_Interacts_FGF\": 3.0, \"totalScore\": 12.0, \"ModuleID\": \"M13.20\", \"AggregateNumber\": \"A29\", \"ModuleTitle\": \"Cell cycle\"}, {\"a_associated_FGF\": 7.0, \"b_regulates_FGF\": 5.0, \"c_Interacts_FGF\": 6.0, \"totalScore\": 18.0, \"ModuleID\": \"M14.22\", \"AggregateNumber\": \"A32\", \"ModuleTitle\": \"TBD\"}, {\"a_associated_FGF\": 5.0, \"b_regulates_FGF\": 4.0, \"c_Interacts_FGF\": 3.0, \"totalScore\": 12.0, \"ModuleID\": \"M16.79\", \"AggregateNumber\": \"A35\", \"ModuleTitle\": \"Protein synthesis\"}, {\"a_associated_FGF\": 4.0, \"b_regulates_FGF\": 3.0, \"c_Interacts_FGF\": 5.0, \"totalScore\": 12.0, \"ModuleID\": \"M15.8\", \"AggregateNumber\": \"A2\", \"ModuleTitle\": \"Gene transcription\"}, {\"a_associated_FGF\": 6.0, \"b_regulates_FGF\": 3.0, \"c_Interacts_FGF\": 4.0, \"totalScore\": 13.0, \"ModuleID\": \"M13.12\", \"AggregateNumber\": \"A35\", \"ModuleTitle\": \"Inflammation\"}, {\"a_associated_FGF\": 5.0, \"b_regulates_FGF\": 4.0, \"c_Interacts_FGF\": 3.0, \"totalScore\": 12.0, \"ModuleID\": \"M16.76\", \"AggregateNumber\": \"A33\", \"ModuleTitle\": \"TBD\"}, {\"a_associated_FGF\": 5.0, \"b_regulates_FGF\": 3.0, \"c_Interacts_FGF\": 2.0, \"totalScore\": 10.0, \"ModuleID\": \"M13.12\", \"AggregateNumber\": \"A35\", \"ModuleTitle\": \"Inflammation\"}, {\"a_associated_FGF\": 7.0, \"b_regulates_FGF\": 5.0, \"c_Interacts_FGF\": 4.0, \"totalScore\": 16.0, \"ModuleID\": \"M15.14\", \"AggregateNumber\": \"A33\", \"ModuleTitle\": \"TBD\"}, {\"a_associated_FGF\": 5.0, \"b_regulates_FGF\": 3.0, \"c_Interacts_FGF\": 4.0, \"totalScore\": 12.0, \"ModuleID\": \"M15.9\", \"AggregateNumber\": \"A6\", \"ModuleTitle\": \"T cells\"}, {\"a_associated_FGF\": 5.0, \"b_regulates_FGF\": 3.0, \"c_Interacts_FGF\": 2.0, \"totalScore\": 10.0, \"ModuleID\": \"M16.64\", \"AggregateNumber\": \"A31\", \"ModuleTitle\": \"Platelet/Prostaglandin\"}, {\"a_associated_FGF\": 5.0, \"b_regulates_FGF\": 3.0, \"c_Interacts_FGF\": 4.0, \"totalScore\": 12.0, \"ModuleID\": \"M12.10\", \"AggregateNumber\": \"A35\", \"ModuleTitle\": \"Inflammation\"}, {\"a_associated_FGF\": 7.0, \"b_regulates_FGF\": 5.0, \"c_Interacts_FGF\": 6.0, \"totalScore\": 18.0, \"ModuleID\": \"M16.99\", \"AggregateNumber\": \"A5\", \"ModuleTitle\": \"Protein modification\"}, {\"a_associated_FGF\": 5.0, \"b_regulates_FGF\": 4.0, \"c_Interacts_FGF\": 3.0, \"totalScore\": 12.0, \"ModuleID\": \"M15.55\", \"AggregateNumber\": \"A25\", \"ModuleTitle\": \"Protein phosphorylation\"}, {\"a_associated_FGF\": 3.0, \"b_regulates_FGF\": 5.0, \"c_Interacts_FGF\": 2.0, \"totalScore\": 10.0, \"ModuleID\": \"M16.92\", \"AggregateNumber\": \"A27\", \"ModuleTitle\": \"Cell cycle\"}, {\"a_associated_FGF\": 5.0, \"b_regulates_FGF\": 4.0, \"c_Interacts_FGF\": 3.0, \"totalScore\": 12.0, \"ModuleID\": \"M14.11\", \"AggregateNumber\": \"A32\", \"ModuleTitle\": \"TBD\"}, {\"a_associated_FGF\": 7.0, \"b_regulates_FGF\": 5.0, \"c_Interacts_FGF\": 6.0, \"totalScore\": 18.0, \"ModuleID\": \"M16.102\", \"AggregateNumber\": \"A33\", \"ModuleTitle\": \"TBD\"}, {\"a_associated_FGF\": 6.0, \"b_regulates_FGF\": 3.0, \"c_Interacts_FGF\": 2.0, \"totalScore\": 11.0, \"ModuleID\": \"M12.3\", \"AggregateNumber\": \"A1\", \"ModuleTitle\": \"Cell cycle\"}, {\"a_associated_FGF\": 6.0, \"b_regulates_FGF\": 4.0, \"c_Interacts_FGF\": 5.0, \"totalScore\": 15.0, \"ModuleID\": \"M14.14\", \"AggregateNumber\": \"A6\", \"ModuleTitle\": \"Protein modification\"}, {\"a_associated_FGF\": 7.0, \"b_regulates_FGF\": 5.0, \"c_Interacts_FGF\": 6.0, \"totalScore\": 18.0, \"ModuleID\": \"M16.50\", \"AggregateNumber\": \"A4\", \"ModuleTitle\": \"Protein modification\"}, {\"a_associated_FGF\": 4.0, \"b_regulates_FGF\": 5.0, \"c_Interacts_FGF\": 3.0, \"totalScore\": 12.0, \"ModuleID\": \"M16.79\", \"AggregateNumber\": \"A35\", \"ModuleTitle\": \"Protein synthesis\"}, {\"a_associated_FGF\": 7.0, \"b_regulates_FGF\": 5.0, \"c_Interacts_FGF\": 4.0, \"totalScore\": 16.0, \"ModuleID\": \"M13.2\", \"AggregateNumber\": \"A1\", \"ModuleTitle\": \"Gene transcription\"}, {\"a_associated_FGF\": 5.0, \"b_regulates_FGF\": 3.0, \"c_Interacts_FGF\": 4.0, \"totalScore\": 12.0, \"ModuleID\": \"M14.7\", \"AggregateNumber\": \"A35\", \"ModuleTitle\": \"TBD\"}, {\"a_associated_FGF\": 9.0, \"b_regulates_FGF\": 8.0, \"c_Interacts_FGF\": 7.0, \"totalScore\": 24.0, \"ModuleID\": \"M13.1\", \"AggregateNumber\": \"A35\", \"ModuleTitle\": \"Inflammation\"}, {\"a_associated_FGF\": 5.0, \"b_regulates_FGF\": 4.0, \"c_Interacts_FGF\": 3.0, \"totalScore\": 12.0, \"ModuleID\": \"M14.13\", \"AggregateNumber\": \"A2\", \"ModuleTitle\": \"Oxidative phosphorylation\"}, {\"a_associated_FGF\": 5.0, \"b_regulates_FGF\": 6.0, \"c_Interacts_FGF\": 4.0, \"totalScore\": 15.0, \"ModuleID\": \"M15.14\", \"AggregateNumber\": \"A33\", \"ModuleTitle\": \"TBD\"}, {\"a_associated_FGF\": 7.0, \"b_regulates_FGF\": 6.0, \"c_Interacts_FGF\": 5.0, \"totalScore\": 18.0, \"ModuleID\": \"M15.39\", \"AggregateNumber\": \"A8\", \"ModuleTitle\": \"TBD\"}, {\"a_associated_FGF\": 5.0, \"b_regulates_FGF\": 4.0, \"c_Interacts_FGF\": 3.0, \"totalScore\": 12.0, \"ModuleID\": \"M12.5\", \"AggregateNumber\": \"A3\", \"ModuleTitle\": \"Protein modification\"}, {\"a_associated_FGF\": 6.0, \"b_regulates_FGF\": 5.0, \"c_Interacts_FGF\": 4.0, \"totalScore\": 15.0, \"ModuleID\": \"M16.51\", \"AggregateNumber\": \"A33\", \"ModuleTitle\": \"Protein synthesis\"}, {\"a_associated_FGF\": 8.0, \"b_regulates_FGF\": 7.0, \"c_Interacts_FGF\": 9.0, \"totalScore\": 24.0, \"ModuleID\": \"M3.1\", \"AggregateNumber\": \"A29\", \"ModuleTitle\": \"Cell cycle\"}, {\"a_associated_FGF\": 5.0, \"b_regulates_FGF\": 3.0, \"c_Interacts_FGF\": 2.0, \"totalScore\": 10.0, \"ModuleID\": \"M12.4\", \"AggregateNumber\": \"A2\", \"ModuleTitle\": \"Gene transcription\"}, {\"a_associated_FGF\": 8.0, \"b_regulates_FGF\": 6.0, \"c_Interacts_FGF\": 7.0, \"totalScore\": 21.0, \"ModuleID\": \"M15.103\", \"AggregateNumber\": \"A24\", \"ModuleTitle\": \"TBD\"}, {\"a_associated_FGF\": 5.0, \"b_regulates_FGF\": 3.0, \"c_Interacts_FGF\": 2.0, \"totalScore\": 10.0, \"ModuleID\": \"M16.1\", \"AggregateNumber\": \"A33\", \"ModuleTitle\": \"TBD\"}, {\"a_associated_FGF\": 5.0, \"b_regulates_FGF\": 4.0, \"c_Interacts_FGF\": 3.0, \"totalScore\": 12.0, \"ModuleID\": \"M15.111\", \"AggregateNumber\": \"A33\", \"ModuleTitle\": \"TBD\"}, {\"a_associated_FGF\": 7.0, \"b_regulates_FGF\": 5.0, \"c_Interacts_FGF\": 6.0, \"totalScore\": 18.0, \"ModuleID\": \"M14.29\", \"AggregateNumber\": \"A32\", \"ModuleTitle\": \"TBD\"}, {\"a_associated_FGF\": 4.0, \"b_regulates_FGF\": 3.0, \"c_Interacts_FGF\": 5.0, \"totalScore\": 12.0, \"ModuleID\": \"M14.64\", \"AggregateNumber\": \"A1\", \"ModuleTitle\": \"Cell cycle\"}, {\"a_associated_FGF\": 6.0, \"b_regulates_FGF\": 5.0, \"c_Interacts_FGF\": 4.0, \"totalScore\": 15.0, \"ModuleID\": \"M12.5\", \"AggregateNumber\": \"A3\", \"ModuleTitle\": \"Protein modification\"}, {\"a_associated_FGF\": 5.0, \"b_regulates_FGF\": 4.0, \"c_Interacts_FGF\": 3.0, \"totalScore\": 12.0, \"ModuleID\": \"M15.13\", \"AggregateNumber\": \"A33\", \"ModuleTitle\": \"TBD\"}, {\"a_associated_FGF\": 5.0, \"b_regulates_FGF\": 4.0, \"c_Interacts_FGF\": 3.0, \"totalScore\": 12.0, \"ModuleID\": \"M16.68\", \"AggregateNumber\": \"A2\", \"ModuleTitle\": \"Protein synthesis\"}, {\"a_associated_FGF\": 7.0, \"b_regulates_FGF\": 4.0, \"c_Interacts_FGF\": 6.0, \"totalScore\": 17.0, \"ModuleID\": \"M16.2\", \"AggregateNumber\": \"A32\", \"ModuleTitle\": \"Protein synthesis\"}, {\"a_associated_FGF\": 5.0, \"b_regulates_FGF\": 4.0, \"c_Interacts_FGF\": 3.0, \"totalScore\": 12.0, \"ModuleID\": \"M15.5\", \"AggregateNumber\": \"A5\", \"ModuleTitle\": \"Protein modification\"}, {\"a_associated_FGF\": 5.0, \"b_regulates_FGF\": 4.0, \"c_Interacts_FGF\": 3.0, \"totalScore\": 12.0, \"ModuleID\": \"M13.3\", \"AggregateNumber\": \"A35\", \"ModuleTitle\": \"TBD\"}, {\"a_associated_FGF\": 7.0, \"b_regulates_FGF\": 5.0, \"c_Interacts_FGF\": 4.0, \"totalScore\": 16.0, \"ModuleID\": \"M15.84\", \"AggregateNumber\": \"A35\", \"ModuleTitle\": \"Cytokines/chemokines\"}, {\"a_associated_FGF\": 5.0, \"b_regulates_FGF\": 3.0, \"c_Interacts_FGF\": 2.0, \"totalScore\": 10.0, \"ModuleID\": \"M15.39\", \"AggregateNumber\": \"A8\", \"ModuleTitle\": \"TBD\"}, {\"a_associated_FGF\": 5.0, \"b_regulates_FGF\": 3.0, \"c_Interacts_FGF\": 2.0, \"totalScore\": 10.0, \"ModuleID\": \"M13.1\", \"AggregateNumber\": \"A35\", \"ModuleTitle\": \"Inflammation\"}, {\"a_associated_FGF\": 5.0, \"b_regulates_FGF\": 4.0, \"c_Interacts_FGF\": 6.0, \"totalScore\": 15.0, \"ModuleID\": \"M13.26\", \"AggregateNumber\": \"A37\", \"ModuleTitle\": \"Oxidative stress\"}, {\"a_associated_FGF\": 4.0, \"b_regulates_FGF\": 3.0, \"c_Interacts_FGF\": 5.0, \"totalScore\": 12.0, \"ModuleID\": \"M14.15\", \"AggregateNumber\": \"A6\", \"ModuleTitle\": \"Protein modification\"}, {\"a_associated_FGF\": 5.0, \"b_regulates_FGF\": 4.0, \"c_Interacts_FGF\": 3.0, \"totalScore\": 12.0, \"ModuleID\": \"M13.14\", \"AggregateNumber\": \"A2\", \"ModuleTitle\": \"Proteolysis\"}, {\"a_associated_FGF\": 5.0, \"b_regulates_FGF\": 4.0, \"c_Interacts_FGF\": 3.0, \"totalScore\": 12.0, \"ModuleID\": \"M14.21\", \"AggregateNumber\": \"A26\", \"ModuleTitle\": \"TBD\"}, {\"a_associated_FGF\": 5.0, \"b_regulates_FGF\": 3.0, \"c_Interacts_FGF\": 4.0, \"totalScore\": 12.0, \"ModuleID\": \"M14.1\", \"AggregateNumber\": \"A32\", \"ModuleTitle\": \"Gene transcription\"}, {\"a_associated_FGF\": 5.0, \"b_regulates_FGF\": 4.0, \"c_Interacts_FGF\": 3.0, \"totalScore\": 12.0, \"ModuleID\": \"M15.17\", \"AggregateNumber\": \"A22\", \"ModuleTitle\": \"TBD\"}, {\"a_associated_FGF\": 7.0, \"b_regulates_FGF\": 5.0, \"c_Interacts_FGF\": 4.0, \"totalScore\": 16.0, \"ModuleID\": \"M15.55\", \"AggregateNumber\": \"A25\", \"ModuleTitle\": \"Protein phosphorylation\"}, {\"a_associated_FGF\": 6.0, \"b_regulates_FGF\": 4.0, \"c_Interacts_FGF\": 3.0, \"totalScore\": 13.0, \"ModuleID\": \"M16.94\", \"AggregateNumber\": \"A19\", \"ModuleTitle\": \"TBD\"}, {\"a_associated_FGF\": 5.0, \"b_regulates_FGF\": 4.0, \"c_Interacts_FGF\": 3.0, \"totalScore\": 12.0, \"ModuleID\": \"M12.4\", \"AggregateNumber\": \"A2\", \"ModuleTitle\": \"Gene transcription\"}, {\"a_associated_FGF\": 7.0, \"b_regulates_FGF\": 6.0, \"c_Interacts_FGF\": 5.0, \"totalScore\": 18.0, \"ModuleID\": \"M16.83\", \"AggregateNumber\": \"A7\", \"ModuleTitle\": \"Cell adhesion\"}, {\"a_associated_FGF\": 7.0, \"b_regulates_FGF\": 6.0, \"c_Interacts_FGF\": 8.0, \"totalScore\": 21.0, \"ModuleID\": \"M14.2\", \"AggregateNumber\": \"A2\", \"ModuleTitle\": \"Protein synthesis\"}, {\"a_associated_FGF\": 7.0, \"b_regulates_FGF\": 8.0, \"c_Interacts_FGF\": 5.0, \"totalScore\": 20.0, \"ModuleID\": \"M15.61\", \"AggregateNumber\": \"A7\", \"ModuleTitle\": \"Monocytes\"}, {\"a_associated_FGF\": 5.0, \"b_regulates_FGF\": 3.0, \"c_Interacts_FGF\": 4.0, \"totalScore\": 12.0, \"ModuleID\": \"M14.10\", \"AggregateNumber\": \"A26\", \"ModuleTitle\": \"TBD\"}, {\"a_associated_FGF\": 7.0, \"b_regulates_FGF\": 5.0, \"c_Interacts_FGF\": 6.0, \"totalScore\": 18.0, \"ModuleID\": \"M13.25\", \"AggregateNumber\": \"A32\", \"ModuleTitle\": \"Protein phosphorylation\"}, {\"a_associated_FGF\": 6.0, \"b_regulates_FGF\": 4.0, \"c_Interacts_FGF\": 5.0, \"totalScore\": 15.0, \"ModuleID\": \"M14.38\", \"AggregateNumber\": \"A31\", \"ModuleTitle\": \"TBD\"}, {\"a_associated_FGF\": 4.0, \"b_regulates_FGF\": 3.0, \"c_Interacts_FGF\": 5.0, \"totalScore\": 12.0, \"ModuleID\": \"M15.34\", \"AggregateNumber\": \"A6\", \"ModuleTitle\": \"T cells\"}, {\"a_associated_FGF\": 5.0, \"b_regulates_FGF\": 4.0, \"c_Interacts_FGF\": 3.0, \"totalScore\": 12.0, \"ModuleID\": \"M12.6\", \"AggregateNumber\": \"A1\", \"ModuleTitle\": \"T cells\"}, {\"a_associated_FGF\": 5.0, \"b_regulates_FGF\": 4.0, \"c_Interacts_FGF\": 3.0, \"totalScore\": 12.0, \"ModuleID\": \"M13.29\", \"AggregateNumber\": \"A2\", \"ModuleTitle\": \"Protein modification\"}, {\"a_associated_FGF\": 7.0, \"b_regulates_FGF\": 5.0, \"c_Interacts_FGF\": 6.0, \"totalScore\": 18.0, \"ModuleID\": \"M16.9\", \"AggregateNumber\": \"A32\", \"ModuleTitle\": \"Protein modification\"}, {\"a_associated_FGF\": 6.0, \"b_regulates_FGF\": 4.0, \"c_Interacts_FGF\": 3.0, \"totalScore\": 13.0, \"ModuleID\": \"M15.47\", \"AggregateNumber\": \"A32\", \"ModuleTitle\": \"Antigen presentation\"}, {\"a_associated_FGF\": 7.0, \"b_regulates_FGF\": 5.0, \"c_Interacts_FGF\": 6.0, \"totalScore\": 18.0, \"ModuleID\": \"M13.5\", \"AggregateNumber\": \"A32\", \"ModuleTitle\": \"Cell death\"}, {\"a_associated_FGF\": 5.0, \"b_regulates_FGF\": 4.0, \"c_Interacts_FGF\": 3.0, \"totalScore\": 12.0, \"ModuleID\": \"M15.19\", \"AggregateNumber\": \"A6\", \"ModuleTitle\": \"Gene transcription\"}, {\"a_associated_FGF\": 7.0, \"b_regulates_FGF\": 5.0, \"c_Interacts_FGF\": 6.0, \"totalScore\": 18.0, \"ModuleID\": \"M16.69\", \"AggregateNumber\": \"A4\", \"ModuleTitle\": \"Lipid metabolism\"}, {\"a_associated_FGF\": 5.0, \"b_regulates_FGF\": 4.0, \"c_Interacts_FGF\": 3.0, \"totalScore\": 12.0, \"ModuleID\": \"M15.3\", \"AggregateNumber\": \"A2\", \"ModuleTitle\": \"Gene transcription\"}, {\"a_associated_FGF\": 5.0, \"b_regulates_FGF\": 4.0, \"c_Interacts_FGF\": 3.0, \"totalScore\": 12.0, \"ModuleID\": \"M13.19\", \"AggregateNumber\": \"A30\", \"ModuleTitle\": \"Protein phosphorylation\"}, {\"a_associated_FGF\": 7.0, \"b_regulates_FGF\": 5.0, \"c_Interacts_FGF\": 4.0, \"totalScore\": 16.0, \"ModuleID\": \"M13.3\", \"AggregateNumber\": \"A35\", \"ModuleTitle\": \"TBD\"}, {\"a_associated_FGF\": 6.0, \"b_regulates_FGF\": 4.0, \"c_Interacts_FGF\": 3.0, \"totalScore\": 13.0, \"ModuleID\": \"M16.102\", \"AggregateNumber\": \"A33\", \"ModuleTitle\": \"TBD\"}, {\"a_associated_FGF\": 5.0, \"b_regulates_FGF\": 4.0, \"c_Interacts_FGF\": 3.0, \"totalScore\": 12.0, \"ModuleID\": \"M9.2\", \"AggregateNumber\": \"A37\", \"ModuleTitle\": \"Erythrocytes\"}, {\"a_associated_FGF\": 5.0, \"b_regulates_FGF\": 4.0, \"c_Interacts_FGF\": 3.0, \"totalScore\": 12.0, \"ModuleID\": \"M14.72\", \"AggregateNumber\": \"A2\", \"ModuleTitle\": \"TBD\"}, {\"a_associated_FGF\": 5.0, \"b_regulates_FGF\": 3.0, \"c_Interacts_FGF\": 2.0, \"totalScore\": 10.0, \"ModuleID\": \"M16.81\", \"AggregateNumber\": \"A6\", \"ModuleTitle\": \"TBD\"}, {\"a_associated_FGF\": 6.0, \"b_regulates_FGF\": 4.0, \"c_Interacts_FGF\": 3.0, \"totalScore\": 13.0, \"ModuleID\": \"M13.3\", \"AggregateNumber\": \"A35\", \"ModuleTitle\": \"TBD\"}, {\"a_associated_FGF\": 5.0, \"b_regulates_FGF\": 3.0, \"c_Interacts_FGF\": 4.0, \"totalScore\": 12.0, \"ModuleID\": \"M13.14\", \"AggregateNumber\": \"A2\", \"ModuleTitle\": \"Proteolysis\"}, {\"a_associated_FGF\": 5.0, \"b_regulates_FGF\": 4.0, \"c_Interacts_FGF\": 3.0, \"totalScore\": 12.0, \"ModuleID\": \"M13.15\", \"AggregateNumber\": \"A32\", \"ModuleTitle\": \"Gene transcription\"}, {\"a_associated_FGF\": 5.0, \"b_regulates_FGF\": 3.0, \"c_Interacts_FGF\": 2.0, \"totalScore\": 10.0, \"ModuleID\": \"M15.1\", \"AggregateNumber\": \"A6\", \"ModuleTitle\": \"TBD\"}, {\"a_associated_FGF\": 5.0, \"b_regulates_FGF\": 3.0, \"c_Interacts_FGF\": 4.0, \"totalScore\": 12.0, \"ModuleID\": \"M14.7\", \"AggregateNumber\": \"A35\", \"ModuleTitle\": \"TBD\"}, {\"a_associated_FGF\": 5.0, \"b_regulates_FGF\": 3.0, \"c_Interacts_FGF\": 2.0, \"totalScore\": 10.0, \"ModuleID\": \"M13.1\", \"AggregateNumber\": \"A35\", \"ModuleTitle\": \"Inflammation\"}, {\"a_associated_FGF\": 6.0, \"b_regulates_FGF\": 4.0, \"c_Interacts_FGF\": 5.0, \"totalScore\": 15.0, \"ModuleID\": \"M13.15\", \"AggregateNumber\": \"A32\", \"ModuleTitle\": \"Gene transcription\"}, {\"a_associated_FGF\": 7.0, \"b_regulates_FGF\": 5.0, \"c_Interacts_FGF\": 6.0, \"totalScore\": 18.0, \"ModuleID\": \"M13.7\", \"AggregateNumber\": \"A33\", \"ModuleTitle\": \"TBD\"}, {\"a_associated_FGF\": 5.0, \"b_regulates_FGF\": 3.0, \"c_Interacts_FGF\": 2.0, \"totalScore\": 10.0, \"ModuleID\": \"M14.10\", \"AggregateNumber\": \"A26\", \"ModuleTitle\": \"TBD\"}, {\"a_associated_FGF\": 8.0, \"b_regulates_FGF\": 6.0, \"c_Interacts_FGF\": 7.0, \"totalScore\": 21.0, \"ModuleID\": \"M16.2\", \"AggregateNumber\": \"A32\", \"ModuleTitle\": \"Protein synthesis\"}, {\"a_associated_FGF\": 5.0, \"b_regulates_FGF\": 4.0, \"c_Interacts_FGF\": 3.0, \"totalScore\": 12.0, \"ModuleID\": \"M14.14\", \"AggregateNumber\": \"A6\", \"ModuleTitle\": \"Protein modification\"}, {\"a_associated_FGF\": 5.0, \"b_regulates_FGF\": 2.0, \"c_Interacts_FGF\": 1.0, \"totalScore\": 8.0, \"ModuleID\": \"M14.61\", \"AggregateNumber\": \"A2\", \"ModuleTitle\": \"Protein modification\"}, {\"a_associated_FGF\": 5.0, \"b_regulates_FGF\": 4.0, \"c_Interacts_FGF\": 3.0, \"totalScore\": 12.0, \"ModuleID\": \"M16.1\", \"AggregateNumber\": \"A33\", \"ModuleTitle\": \"TBD\"}, {\"a_associated_FGF\": 4.0, \"b_regulates_FGF\": 5.0, \"c_Interacts_FGF\": 3.0, \"totalScore\": 12.0, \"ModuleID\": \"M13.2\", \"AggregateNumber\": \"A1\", \"ModuleTitle\": \"Gene transcription\"}, {\"a_associated_FGF\": 6.0, \"b_regulates_FGF\": 3.0, \"c_Interacts_FGF\": 2.0, \"totalScore\": 11.0, \"ModuleID\": \"M14.29\", \"AggregateNumber\": \"A32\", \"ModuleTitle\": \"TBD\"}, {\"a_associated_FGF\": 6.0, \"b_regulates_FGF\": 4.0, \"c_Interacts_FGF\": 5.0, \"totalScore\": 15.0, \"ModuleID\": \"M16.11\", \"AggregateNumber\": \"A4\", \"ModuleTitle\": \"Protein synthesis\"}, {\"a_associated_FGF\": 6.0, \"b_regulates_FGF\": 4.0, \"c_Interacts_FGF\": 7.0, \"totalScore\": 17.0, \"ModuleID\": \"M13.6\", \"AggregateNumber\": \"A1\", \"ModuleTitle\": \"Gene transcription\"}, {\"a_associated_FGF\": 5.0, \"b_regulates_FGF\": 4.0, \"c_Interacts_FGF\": 3.0, \"totalScore\": 12.0, \"ModuleID\": \"M15.105\", \"AggregateNumber\": \"A35\", \"ModuleTitle\": \"Inflammation\"}, {\"a_associated_FGF\": 6.0, \"b_regulates_FGF\": 4.0, \"c_Interacts_FGF\": 5.0, \"totalScore\": 15.0, \"ModuleID\": \"M13.1\", \"AggregateNumber\": \"A35\", \"ModuleTitle\": \"Inflammation\"}, {\"a_associated_FGF\": 5.0, \"b_regulates_FGF\": 4.0, \"c_Interacts_FGF\": 3.0, \"totalScore\": 12.0, \"ModuleID\": \"M16.13\", \"AggregateNumber\": \"A5\", \"ModuleTitle\": \"Protein modification\"}, {\"a_associated_FGF\": 5.0, \"b_regulates_FGF\": 6.0, \"c_Interacts_FGF\": 4.0, \"totalScore\": 15.0, \"ModuleID\": \"M15.111\", \"AggregateNumber\": \"A33\", \"ModuleTitle\": \"TBD\"}, {\"a_associated_FGF\": 6.0, \"b_regulates_FGF\": 5.0, \"c_Interacts_FGF\": 4.0, \"totalScore\": 15.0, \"ModuleID\": \"M15.12\", \"AggregateNumber\": \"A33\", \"ModuleTitle\": \"TBD\"}, {\"a_associated_FGF\": 5.0, \"b_regulates_FGF\": 4.0, \"c_Interacts_FGF\": 3.0, \"totalScore\": 12.0, \"ModuleID\": \"M13.2\", \"AggregateNumber\": \"A1\", \"ModuleTitle\": \"Gene transcription\"}, {\"a_associated_FGF\": 7.0, \"b_regulates_FGF\": 5.0, \"c_Interacts_FGF\": 6.0, \"totalScore\": 18.0, \"ModuleID\": \"M15.83\", \"AggregateNumber\": \"A6\", \"ModuleTitle\": \"Gene transcription\"}, {\"a_associated_FGF\": 7.0, \"b_regulates_FGF\": 6.0, \"c_Interacts_FGF\": 5.0, \"totalScore\": 18.0, \"ModuleID\": \"M13.2\", \"AggregateNumber\": \"A1\", \"ModuleTitle\": \"Gene transcription\"}, {\"a_associated_FGF\": 5.0, \"b_regulates_FGF\": 3.0, \"c_Interacts_FGF\": 2.0, \"totalScore\": 10.0, \"ModuleID\": \"M16.9\", \"AggregateNumber\": \"A32\", \"ModuleTitle\": \"Protein modification\"}, {\"a_associated_FGF\": 5.0, \"b_regulates_FGF\": 3.0, \"c_Interacts_FGF\": 2.0, \"totalScore\": 10.0, \"ModuleID\": \"M14.1\", \"AggregateNumber\": \"A32\", \"ModuleTitle\": \"Gene transcription\"}, {\"a_associated_FGF\": 5.0, \"b_regulates_FGF\": 4.0, \"c_Interacts_FGF\": 3.0, \"totalScore\": 12.0, \"ModuleID\": \"M15.5\", \"AggregateNumber\": \"A5\", \"ModuleTitle\": \"Protein modification\"}, {\"a_associated_FGF\": 6.0, \"b_regulates_FGF\": 3.0, \"c_Interacts_FGF\": 2.0, \"totalScore\": 11.0, \"ModuleID\": \"M13.5\", \"AggregateNumber\": \"A32\", \"ModuleTitle\": \"Cell death\"}, {\"a_associated_FGF\": 5.0, \"b_regulates_FGF\": 4.0, \"c_Interacts_FGF\": 3.0, \"totalScore\": 12.0, \"ModuleID\": \"M15.9\", \"AggregateNumber\": \"A6\", \"ModuleTitle\": \"T cells\"}, {\"a_associated_FGF\": 5.0, \"b_regulates_FGF\": 3.0, \"c_Interacts_FGF\": 4.0, \"totalScore\": 12.0, \"ModuleID\": \"M12.4\", \"AggregateNumber\": \"A2\", \"ModuleTitle\": \"Gene transcription\"}, {\"a_associated_FGF\": 6.0, \"b_regulates_FGF\": 5.0, \"c_Interacts_FGF\": 4.0, \"totalScore\": 15.0, \"ModuleID\": \"M14.59\", \"AggregateNumber\": \"A34\", \"ModuleTitle\": \"TBD\"}, {\"a_associated_FGF\": 3.0, \"b_regulates_FGF\": 5.0, \"c_Interacts_FGF\": 2.0, \"totalScore\": 10.0, \"ModuleID\": \"M14.1\", \"AggregateNumber\": \"A32\", \"ModuleTitle\": \"Gene transcription\"}, {\"a_associated_FGF\": 9.0, \"b_regulates_FGF\": 7.0, \"c_Interacts_FGF\": 8.0, \"totalScore\": 24.0, \"ModuleID\": \"M16.57\", \"AggregateNumber\": \"A5\", \"ModuleTitle\": \"B cells\"}, {\"a_associated_FGF\": 7.0, \"b_regulates_FGF\": 5.0, \"c_Interacts_FGF\": 4.0, \"totalScore\": 16.0, \"ModuleID\": \"M15.13\", \"AggregateNumber\": \"A33\", \"ModuleTitle\": \"TBD\"}, {\"a_associated_FGF\": 5.0, \"b_regulates_FGF\": 3.0, \"c_Interacts_FGF\": 2.0, \"totalScore\": 10.0, \"ModuleID\": \"M16.3\", \"AggregateNumber\": \"A6\", \"ModuleTitle\": \"T cells\"}, {\"a_associated_FGF\": 5.0, \"b_regulates_FGF\": 6.0, \"c_Interacts_FGF\": 4.0, \"totalScore\": 15.0, \"ModuleID\": \"M13.5\", \"AggregateNumber\": \"A32\", \"ModuleTitle\": \"Cell death\"}, {\"a_associated_FGF\": 7.0, \"b_regulates_FGF\": 5.0, \"c_Interacts_FGF\": 6.0, \"totalScore\": 18.0, \"ModuleID\": \"M14.19\", \"AggregateNumber\": \"A33\", \"ModuleTitle\": \"Inflammation\"}, {\"a_associated_FGF\": 7.0, \"b_regulates_FGF\": 8.0, \"c_Interacts_FGF\": 5.0, \"totalScore\": 20.0, \"ModuleID\": \"M15.40\", \"AggregateNumber\": \"A6\", \"ModuleTitle\": \"Gene transcription\"}]}}, {\"mode\": \"vega-lite\"});\n",
       "</script>"
      ],
      "text/plain": [
       "alt.VConcatChart(...)"
      ]
     },
     "execution_count": 29,
     "metadata": {},
     "output_type": "execute_result"
    }
   ],
   "source": [
    "scoreOrder = atL1_evd_annpt.groupby('ModuleTitle')['totalScore'].agg(\"median\").sort_values().index\n",
    "titlBoxplot = alt.Chart(atL1_evd_annpt,height=200).mark_boxplot().encode(\n",
    "    x=alt.X('ModuleTitle',sort=list(scoreOrder),axis=alt.Axis(title=\"Module Function Title\",titleFontSize=10,labelFontSize=14)),\n",
    "    y='totalScore'\n",
    ")\n",
    "\n",
    "module_bar = alt.Chart(atL1_evd_annpt,height=150).mark_bar().encode(\n",
    "    x=alt.X('ModuleTitle',sort=list(scoreOrder),axis=alt.Axis(labels=False,title='')),\n",
    "    y=alt.Y('distinct(ModuleID)',axis=alt.Axis(title=\"Module Count\"))\n",
    ")\n",
    "module_text = module_bar.mark_text(\n",
    "    align=\"center\",\n",
    "    baseline=\"middle\",\n",
    "    dy=-5,\n",
    "    size=14\n",
    ").encode(text=\"distinct(ModuleID)\")\n",
    "module_bar_plot = module_bar+module_text\n",
    "\n",
    "gene_bar = alt.Chart(atL1_evd_annpt,height=150).mark_bar().encode(\n",
    "    x=alt.X('ModuleTitle',sort=list(scoreOrder),axis=alt.Axis(labels=False,title='')),\n",
    "    y=alt.Y('count(ModuleID)',axis=alt.Axis(title=\"Gene Count\"))\n",
    ")\n",
    "gene_text = gene_bar.mark_text(\n",
    "    align=\"center\",\n",
    "    baseline=\"middle\",\n",
    "    dy=-5,\n",
    "    size=14\n",
    ").encode(text=\"count(ModuleID)\")\n",
    "gene_bar_plot  = gene_bar+gene_text\n",
    "\n",
    "alt.vconcat(gene_bar_plot,module_bar_plot, titlBoxplot).resolve_scale(\n",
    "    x='shared'\n",
    ")"
   ]
  },
  {
   "cell_type": "code",
   "execution_count": 30,
   "metadata": {},
   "outputs": [
    {
     "data": {
      "image/png": "[encoded data removed]",
      "text/plain": [
       "<Figure size 600x800 with 4 Axes>"
      ]
     },
     "metadata": {},
     "output_type": "display_data"
    }
   ],
   "source": [
    "dataX = atL1_evd_annpt[score_cols].fillna(0)\n",
    "absHM = sns.clustermap(dataX,col_cluster=False,method=\"ward\",figsize=(6,8),cmap=\"autumn_r\")"
   ]
  },
  {
   "cell_type": "code",
   "execution_count": 39,
   "metadata": {},
   "outputs": [],
   "source": [
    "import matplotlib.colors as mcolors\n",
    "from scipy.cluster.hierarchy import fcluster\n",
    "\n",
    "figDir = \"~\"\n",
    "\n",
    "def get_labelClusterMap(cData,row_linkage, spot_id_colors,heatmap_color=\"RdBu_r\",data_scale=\"normalized\"):\n",
    "    if data_scale==\"normalized\":\n",
    "        g = sns.clustermap(cData.fillna(0),\n",
    "                    method=\"ward\",row_cluster=True,row_linkage=row_linkage, col_cluster=False,\n",
    "                    figsize=(4,8),cmap=heatmap_color,vmin=-1.5,vmax=1.5,dendrogram_ratio=0.15,\n",
    "                    row_colors=spot_id_colors.c_color,\n",
    "                    cbar_pos=(0.75,0.7,0.03,0.15),\n",
    "                    cbar_kws={\"label\":'score (z-transformed)'})\n",
    "    elif data_scale==\"absolute\":\n",
    "         g = sns.clustermap(cData.fillna(0),\n",
    "                    method=\"ward\",row_cluster=True,row_linkage=row_linkage, col_cluster=False,\n",
    "                    figsize=(4,8),cmap=heatmap_color,vmin=1,vmax=9,dendrogram_ratio=0.15,\n",
    "                    row_colors=spot_id_colors.c_color,\n",
    "                    cbar_pos=(0.75,0.7,0.03,0.15),\n",
    "                    cbar_kws={\"label\":'score (absolute)'})\n",
    "         \n",
    "    g.ax_heatmap.set_yticks([])\n",
    "    plt.tight_layout()\n",
    "    # plt.savefig(\"../../../../g4API_app/bloodgen3Gensets/Sepsis/Figures/hirarchicalCluster.pdf\",format=\"pdf\")\n",
    "\n",
    "def num_distinct_color(ncols, schema=\"tab10\"):\n",
    "    # get schema from : https://matplotlib.org/stable/users/explain/colors/colormaps.html\n",
    "    # Get the 'tab10' colormap which contains 10 distinct colors\n",
    "    cmap = plt.get_cmap(schema)\n",
    "    # Select 6 distinct colors from the colormap\n",
    "    colors = reversed([cmap(i/10) for i in range(ncols)])\n",
    "\n",
    "    # Convert colors to hex format correctly\n",
    "    return {str(cnum):mcolors.rgb2hex(color) for cnum,color in zip(np.arange(1,ncols+1),colors)}\n",
    "\n",
    "def get_clusterMembers(gDataObj, row_linkage, numCluster=5, schema=\"tab10\",data_scale=\"normalized\", heatmap_color=\"RdBu_r\"):\n",
    "    # row_linkage = gDataObj.dendrogram_row.linkage\n",
    "    clusters = fcluster(row_linkage, numCluster, criterion=\"maxclust\")\n",
    "    clustCols = num_distinct_color(numCluster, schema=schema)\n",
    "\n",
    "    spot_id_cluste = []\n",
    "    for spotid, clister in zip(gDataObj.data.index, clusters):\n",
    "        spot_id_cluste.append([spotid,str(clister)])\n",
    "\n",
    "    spot_id_cluste = pd.DataFrame(spot_id_cluste,columns=['spotID','c_num'])\n",
    "    spot_id_cluste['c_color'] = spot_id_cluste.c_num.map(clustCols)\n",
    "    spot_id_cluste = spot_id_cluste.set_index(\"spotID\")\n",
    "    get_labelClusterMap(gDataObj.data, row_linkage, spot_id_cluste, data_scale=data_scale, heatmap_color=heatmap_color)\n",
    "    return spot_id_cluste"
   ]
  },
  {
   "cell_type": "code",
   "execution_count": 40,
   "metadata": {},
   "outputs": [
    {
     "name": "stderr",
     "output_type": "stream",
     "text": [
      "/var/folders/t3/68lkvp7d7dlcctl6w91ml6yj8cs2fb/T/ipykernel_38929/3400773546.py:23: UserWarning: Tight layout not applied. tight_layout cannot make axes width small enough to accommodate all axes decorations\n",
      "  plt.tight_layout()\n"
     ]
    },
    {
     "data": {
      "image/png": "[encoded data removed]",
      "text/plain": [
       "<Figure size 400x800 with 5 Axes>"
      ]
     },
     "metadata": {},
     "output_type": "display_data"
    }
   ],
   "source": [
    "clustCol = get_clusterMembers(absHM,absHM.dendrogram_row.linkage, numCluster=5,schema=\"tab20\",data_scale=\"absolute\",heatmap_color=\"spring_r\")"
   ]
  },
  {
   "cell_type": "code",
   "execution_count": 41,
   "metadata": {},
   "outputs": [
    {
     "name": "stdout",
     "output_type": "stream",
     "text": [
      "Populat cluster in this experiment: 3 \n",
      "renaming clustes as:  {'3': 1, '4': 2, '5': 3, '1': 4, '2': 5}\n"
     ]
    }
   ],
   "source": [
    "atL1_evd_annpt_cluster = atL1_evd_annpt.join(clustCol)\n",
    "\n",
    "## sort cluster numbers as per popularity \n",
    "question_clusterAgg = atL1_evd_annpt_cluster.groupby('c_num')[score_cols].agg(['median','std']).\\\n",
    "    unstack().reset_index().pivot(index=['level_0','c_num'],columns='level_1',values=0)\n",
    "\n",
    "question_clusterAgg = question_clusterAgg.reset_index().rename({'level_0':'questions'},axis=1)\n",
    "\n",
    "\n",
    "def popularIndex(kgrp):\n",
    "    return kgrp[kgrp>=5].shape[0]/kgrp.shape[0]\n",
    "\n",
    "popularCluster = question_clusterAgg.groupby('c_num')['median'].apply(popularIndex)\n",
    "popularcluserName = popularCluster.idxmax()\n",
    "\n",
    "popularCluster = popularCluster.to_frame().sort_values(by=\"median\",ascending=False).reset_index()\n",
    "popularCluster['c_index'] = [i+1 for i in popularCluster.index]\n",
    "rename_Cluster = popularCluster.set_index(\"c_num\")['c_index'].to_dict()\n",
    "\n",
    "print (\"Populat cluster in this experiment:\", popularcluserName, \"\\nrenaming clustes as: \", rename_Cluster)\n",
    "\n"
   ]
  },
  {
   "cell_type": "code",
   "execution_count": 42,
   "metadata": {},
   "outputs": [
    {
     "data": {
      "text/html": [
       "<div>\n",
       "<style scoped>\n",
       "    .dataframe tbody tr th:only-of-type {\n",
       "        vertical-align: middle;\n",
       "    }\n",
       "\n",
       "    .dataframe tbody tr th {\n",
       "        vertical-align: top;\n",
       "    }\n",
       "\n",
       "    .dataframe thead th {\n",
       "        text-align: right;\n",
       "    }\n",
       "</style>\n",
       "<table border=\"1\" class=\"dataframe\">\n",
       "  <thead>\n",
       "    <tr style=\"text-align: right;\">\n",
       "      <th>level_1</th>\n",
       "      <th>questions</th>\n",
       "      <th>c_num</th>\n",
       "      <th>median</th>\n",
       "      <th>std</th>\n",
       "      <th>ClusterName</th>\n",
       "    </tr>\n",
       "  </thead>\n",
       "  <tbody>\n",
       "    <tr>\n",
       "      <th>0</th>\n",
       "      <td>a_associated_FGF</td>\n",
       "      <td>1</td>\n",
       "      <td>5.0</td>\n",
       "      <td>0.475595</td>\n",
       "      <td>4</td>\n",
       "    </tr>\n",
       "    <tr>\n",
       "      <th>1</th>\n",
       "      <td>a_associated_FGF</td>\n",
       "      <td>2</td>\n",
       "      <td>5.0</td>\n",
       "      <td>0.467238</td>\n",
       "      <td>5</td>\n",
       "    </tr>\n",
       "    <tr>\n",
       "      <th>2</th>\n",
       "      <td>a_associated_FGF</td>\n",
       "      <td>3</td>\n",
       "      <td>8.0</td>\n",
       "      <td>0.750757</td>\n",
       "      <td>1</td>\n",
       "    </tr>\n",
       "    <tr>\n",
       "      <th>3</th>\n",
       "      <td>a_associated_FGF</td>\n",
       "      <td>4</td>\n",
       "      <td>7.0</td>\n",
       "      <td>0.622171</td>\n",
       "      <td>2</td>\n",
       "    </tr>\n",
       "    <tr>\n",
       "      <th>4</th>\n",
       "      <td>a_associated_FGF</td>\n",
       "      <td>5</td>\n",
       "      <td>7.0</td>\n",
       "      <td>0.408600</td>\n",
       "      <td>3</td>\n",
       "    </tr>\n",
       "  </tbody>\n",
       "</table>\n",
       "</div>"
      ],
      "text/plain": [
       "level_1         questions c_num  median       std  ClusterName\n",
       "0        a_associated_FGF     1     5.0  0.475595            4\n",
       "1        a_associated_FGF     2     5.0  0.467238            5\n",
       "2        a_associated_FGF     3     8.0  0.750757            1\n",
       "3        a_associated_FGF     4     7.0  0.622171            2\n",
       "4        a_associated_FGF     5     7.0  0.408600            3"
      ]
     },
     "execution_count": 42,
     "metadata": {},
     "output_type": "execute_result"
    }
   ],
   "source": [
    "question_clusterAgg['ClusterName'] = question_clusterAgg['c_num'].map(rename_Cluster)\n",
    "question_clusterAgg.head()"
   ]
  },
  {
   "cell_type": "code",
   "execution_count": 55,
   "metadata": {},
   "outputs": [],
   "source": []
  },
  {
   "cell_type": "code",
   "execution_count": 43,
   "metadata": {},
   "outputs": [
    {
     "name": "stderr",
     "output_type": "stream",
     "text": [
      "/Users/khant/JaX_work/StreamLitApp/geneLLM/openAIFunc/lib/python3.9/site-packages/altair/utils/core.py:410: FutureWarning: the convert_dtype parameter is deprecated and will be removed in a future version.  Do ``ser.astype(object).apply()`` instead if you want ``convert_dtype=False``.\n",
      "  col = df[col_name].apply(to_list_if_array, convert_dtype=False)\n"
     ]
    },
    {
     "data": {
      "text/html": [
       "\n",
       "<style>\n",
       "  #altair-viz-ef97eb78660d4026b823b3572884a802.vega-embed {\n",
       "    width: 100%;\n",
       "    display: flex;\n",
       "  }\n",
       "\n",
       "  #altair-viz-ef97eb78660d4026b823b3572884a802.vega-embed details,\n",
       "  #altair-viz-ef97eb78660d4026b823b3572884a802.vega-embed details summary {\n",
       "    position: relative;\n",
       "  }\n",
       "</style>\n",
       "<div id=\"altair-viz-ef97eb78660d4026b823b3572884a802\"></div>\n",
       "<script type=\"text/javascript\">\n",
       "  var VEGA_DEBUG = (typeof VEGA_DEBUG == \"undefined\") ? {} : VEGA_DEBUG;\n",
       "  (function(spec, embedOpt){\n",
       "    let outputDiv = document.currentScript.previousElementSibling;\n",
       "    if (outputDiv.id !== \"altair-viz-ef97eb78660d4026b823b3572884a802\") {\n",
       "      outputDiv = document.getElementById(\"altair-viz-ef97eb78660d4026b823b3572884a802\");\n",
       "    }\n",
       "    const paths = {\n",
       "      \"vega\": \"https://cdn.jsdelivr.net/npm/vega@5?noext\",\n",
       "      \"vega-lib\": \"https://cdn.jsdelivr.net/npm/vega-lib?noext\",\n",
       "      \"vega-lite\": \"https://cdn.jsdelivr.net/npm/vega-lite@5.14.1?noext\",\n",
       "      \"vega-embed\": \"https://cdn.jsdelivr.net/npm/vega-embed@6?noext\",\n",
       "    };\n",
       "\n",
       "    function maybeLoadScript(lib, version) {\n",
       "      var key = `${lib.replace(\"-\", \"\")}_version`;\n",
       "      return (VEGA_DEBUG[key] == version) ?\n",
       "        Promise.resolve(paths[lib]) :\n",
       "        new Promise(function(resolve, reject) {\n",
       "          var s = document.createElement('script');\n",
       "          document.getElementsByTagName(\"head\")[0].appendChild(s);\n",
       "          s.async = true;\n",
       "          s.onload = () => {\n",
       "            VEGA_DEBUG[key] = version;\n",
       "            return resolve(paths[lib]);\n",
       "          };\n",
       "          s.onerror = () => reject(`Error loading script: ${paths[lib]}`);\n",
       "          s.src = paths[lib];\n",
       "        });\n",
       "    }\n",
       "\n",
       "    function showError(err) {\n",
       "      outputDiv.innerHTML = `<div class=\"error\" style=\"color:red;\">${err}</div>`;\n",
       "      throw err;\n",
       "    }\n",
       "\n",
       "    function displayChart(vegaEmbed) {\n",
       "      vegaEmbed(outputDiv, spec, embedOpt)\n",
       "        .catch(err => showError(`Javascript Error: ${err.message}<br>This usually means there's a typo in your chart specification. See the javascript console for the full traceback.`));\n",
       "    }\n",
       "\n",
       "    if(typeof define === \"function\" && define.amd) {\n",
       "      requirejs.config({paths});\n",
       "      require([\"vega-embed\"], displayChart, err => showError(`Error loading script: ${err.message}`));\n",
       "    } else {\n",
       "      maybeLoadScript(\"vega\", \"5\")\n",
       "        .then(() => maybeLoadScript(\"vega-lite\", \"5.14.1\"))\n",
       "        .then(() => maybeLoadScript(\"vega-embed\", \"6\"))\n",
       "        .catch(showError)\n",
       "        .then(() => displayChart(vegaEmbed));\n",
       "    }\n",
       "  })({\"config\": {\"view\": {\"continuousWidth\": 300, \"continuousHeight\": 300}}, \"data\": {\"name\": \"data-c2c54df2b5e07c8b64592e7b9f17b85a\"}, \"mark\": {\"type\": \"point\", \"filled\": true}, \"encoding\": {\"color\": {\"field\": \"median\", \"scale\": {\"clamp\": true, \"domainMax\": 8, \"domainMid\": 4, \"domainMin\": 0.5, \"reverse\": true, \"scheme\": \"redblue\"}, \"type\": \"quantitative\"}, \"size\": {\"field\": \"std\", \"scale\": {\"reverse\": true}, \"type\": \"quantitative\"}, \"tooltip\": [{\"field\": \"median\", \"type\": \"quantitative\"}, {\"field\": \"std\", \"type\": \"quantitative\"}], \"x\": {\"field\": \"ClusterName\", \"type\": \"ordinal\"}, \"y\": {\"axis\": {\"labelFontSize\": 14}, \"field\": \"questions\", \"type\": \"nominal\"}}, \"$schema\": \"https://vega.github.io/schema/vega-lite/v5.14.1.json\", \"datasets\": {\"data-c2c54df2b5e07c8b64592e7b9f17b85a\": [{\"questions\": \"a_associated_FGF\", \"c_num\": \"1\", \"median\": 5.0, \"std\": 0.475594865605671, \"ClusterName\": 4}, {\"questions\": \"a_associated_FGF\", \"c_num\": \"2\", \"median\": 5.0, \"std\": 0.4672380587118006, \"ClusterName\": 5}, {\"questions\": \"a_associated_FGF\", \"c_num\": \"3\", \"median\": 8.0, \"std\": 0.7507571935295482, \"ClusterName\": 1}, {\"questions\": \"a_associated_FGF\", \"c_num\": \"4\", \"median\": 7.0, \"std\": 0.6221710168382553, \"ClusterName\": 2}, {\"questions\": \"a_associated_FGF\", \"c_num\": \"5\", \"median\": 7.0, \"std\": 0.40860007707843826, \"ClusterName\": 3}, {\"questions\": \"b_regulates_FGF\", \"c_num\": \"1\", \"median\": 3.0, \"std\": 0.1889822365046136, \"ClusterName\": 4}, {\"questions\": \"b_regulates_FGF\", \"c_num\": \"2\", \"median\": 4.0, \"std\": 0.664580067912563, \"ClusterName\": 5}, {\"questions\": \"b_regulates_FGF\", \"c_num\": \"3\", \"median\": 7.0, \"std\": 0.9341987329938274, \"ClusterName\": 1}, {\"questions\": \"b_regulates_FGF\", \"c_num\": \"4\", \"median\": 4.5, \"std\": 0.5080005080007619, \"ClusterName\": 2}, {\"questions\": \"b_regulates_FGF\", \"c_num\": \"5\", \"median\": 5.0, \"std\": 0.937715492474976, \"ClusterName\": 3}, {\"questions\": \"c_Interacts_FGF\", \"c_num\": \"1\", \"median\": 4.0, \"std\": 0.41785544701867255, \"ClusterName\": 4}, {\"questions\": \"c_Interacts_FGF\", \"c_num\": \"2\", \"median\": 3.0, \"std\": 0.5231483637805969, \"ClusterName\": 5}, {\"questions\": \"c_Interacts_FGF\", \"c_num\": \"3\", \"median\": 8.0, \"std\": 0.9045340337332909, \"ClusterName\": 1}, {\"questions\": \"c_Interacts_FGF\", \"c_num\": \"4\", \"median\": 6.0, \"std\": 0.5922891621605981, \"ClusterName\": 2}, {\"questions\": \"c_Interacts_FGF\", \"c_num\": \"5\", \"median\": 4.0, \"std\": 0.466091599699399, \"ClusterName\": 3}]}}, {\"mode\": \"vega-lite\"});\n",
       "</script>"
      ],
      "text/plain": [
       "alt.Chart(...)"
      ]
     },
     "execution_count": 43,
     "metadata": {},
     "output_type": "execute_result"
    }
   ],
   "source": [
    "alt.Chart(question_clusterAgg).mark_point(filled=True).encode(\n",
    "    y=alt.Y('questions',axis=alt.Axis(labelFontSize=14)),\n",
    "    x=alt.X('ClusterName:O'),\n",
    "    color=alt.Color(\"median\",scale=alt.Scale(scheme=\"redblue\",reverse=True,domainMin=0.5,domainMax=8,domainMid=4,clamp=True)),\n",
    "    size=alt.Size('std',scale=alt.Scale(reverse=True)),\n",
    "    tooltip=[\"median\",\"std\"]\n",
    ")"
   ]
  },
  {
   "cell_type": "code",
   "execution_count": 56,
   "metadata": {},
   "outputs": [
    {
     "data": {
      "text/html": [
       "<div>\n",
       "<style scoped>\n",
       "    .dataframe tbody tr th:only-of-type {\n",
       "        vertical-align: middle;\n",
       "    }\n",
       "\n",
       "    .dataframe tbody tr th {\n",
       "        vertical-align: top;\n",
       "    }\n",
       "\n",
       "    .dataframe thead th {\n",
       "        text-align: right;\n",
       "    }\n",
       "</style>\n",
       "<table border=\"1\" class=\"dataframe\">\n",
       "  <thead>\n",
       "    <tr style=\"text-align: right;\">\n",
       "      <th></th>\n",
       "      <th>a_associated_FGF</th>\n",
       "      <th>b_regulates_FGF</th>\n",
       "      <th>c_Interacts_FGF</th>\n",
       "      <th>totalScore</th>\n",
       "      <th>ModuleID</th>\n",
       "      <th>AggregateNumber</th>\n",
       "      <th>ModuleTitle</th>\n",
       "      <th>c_num</th>\n",
       "      <th>c_color</th>\n",
       "      <th>ClusterName</th>\n",
       "    </tr>\n",
       "    <tr>\n",
       "      <th>geneName</th>\n",
       "      <th></th>\n",
       "      <th></th>\n",
       "      <th></th>\n",
       "      <th></th>\n",
       "      <th></th>\n",
       "      <th></th>\n",
       "      <th></th>\n",
       "      <th></th>\n",
       "      <th></th>\n",
       "      <th></th>\n",
       "    </tr>\n",
       "  </thead>\n",
       "  <tbody>\n",
       "    <tr>\n",
       "      <th>FGF18</th>\n",
       "      <td>9.0</td>\n",
       "      <td>7.0</td>\n",
       "      <td>8.0</td>\n",
       "      <td>24.0</td>\n",
       "      <td>M16.97</td>\n",
       "      <td>A17</td>\n",
       "      <td>Cell death</td>\n",
       "      <td>3</td>\n",
       "      <td>#2ca02c</td>\n",
       "      <td>1</td>\n",
       "    </tr>\n",
       "    <tr>\n",
       "      <th>IQGAP1</th>\n",
       "      <td>5.0</td>\n",
       "      <td>4.0</td>\n",
       "      <td>3.0</td>\n",
       "      <td>12.0</td>\n",
       "      <td>M13.1</td>\n",
       "      <td>A35</td>\n",
       "      <td>Inflammation</td>\n",
       "      <td>2</td>\n",
       "      <td>#d62728</td>\n",
       "      <td>5</td>\n",
       "    </tr>\n",
       "    <tr>\n",
       "      <th>TXN</th>\n",
       "      <td>5.0</td>\n",
       "      <td>3.0</td>\n",
       "      <td>2.0</td>\n",
       "      <td>10.0</td>\n",
       "      <td>M13.1</td>\n",
       "      <td>A35</td>\n",
       "      <td>Inflammation</td>\n",
       "      <td>2</td>\n",
       "      <td>#d62728</td>\n",
       "      <td>5</td>\n",
       "    </tr>\n",
       "    <tr>\n",
       "      <th>PPP2R4</th>\n",
       "      <td>5.0</td>\n",
       "      <td>3.0</td>\n",
       "      <td>4.0</td>\n",
       "      <td>12.0</td>\n",
       "      <td>M15.6</td>\n",
       "      <td>A7</td>\n",
       "      <td>Cell cycle</td>\n",
       "      <td>1</td>\n",
       "      <td>#9467bd</td>\n",
       "      <td>4</td>\n",
       "    </tr>\n",
       "    <tr>\n",
       "      <th>ECT2</th>\n",
       "      <td>5.0</td>\n",
       "      <td>4.0</td>\n",
       "      <td>3.0</td>\n",
       "      <td>12.0</td>\n",
       "      <td>M15.40</td>\n",
       "      <td>A6</td>\n",
       "      <td>Gene transcription</td>\n",
       "      <td>2</td>\n",
       "      <td>#d62728</td>\n",
       "      <td>5</td>\n",
       "    </tr>\n",
       "  </tbody>\n",
       "</table>\n",
       "</div>"
      ],
      "text/plain": [
       "          a_associated_FGF  b_regulates_FGF  c_Interacts_FGF  totalScore  \\\n",
       "geneName                                                                   \n",
       "FGF18                  9.0              7.0              8.0        24.0   \n",
       "IQGAP1                 5.0              4.0              3.0        12.0   \n",
       "TXN                    5.0              3.0              2.0        10.0   \n",
       "PPP2R4                 5.0              3.0              4.0        12.0   \n",
       "ECT2                   5.0              4.0              3.0        12.0   \n",
       "\n",
       "         ModuleID AggregateNumber         ModuleTitle c_num  c_color  \\\n",
       "geneName                                                               \n",
       "FGF18      M16.97             A17          Cell death     3  #2ca02c   \n",
       "IQGAP1      M13.1             A35        Inflammation     2  #d62728   \n",
       "TXN         M13.1             A35        Inflammation     2  #d62728   \n",
       "PPP2R4      M15.6              A7          Cell cycle     1  #9467bd   \n",
       "ECT2       M15.40              A6  Gene transcription     2  #d62728   \n",
       "\n",
       "          ClusterName  \n",
       "geneName               \n",
       "FGF18               1  \n",
       "IQGAP1              5  \n",
       "TXN                 5  \n",
       "PPP2R4              4  \n",
       "ECT2                5  "
      ]
     },
     "execution_count": 56,
     "metadata": {},
     "output_type": "execute_result"
    }
   ],
   "source": [
    "atL1_evd_annpt_cluster['ClusterName'] = atL1_evd_annpt_cluster['c_num'].map(rename_Cluster)\n",
    "atL1_evd_annpt_cluster.head()"
   ]
  },
  {
   "cell_type": "code",
   "execution_count": 57,
   "metadata": {},
   "outputs": [],
   "source": [
    "atL1_evd_annpt_cluster.sort_values(by=\"c_num\").to_csv(\"../data/openAI_result_curated/FGF/clustered_dx.csv\")"
   ]
  },
  {
   "cell_type": "code",
   "execution_count": null,
   "metadata": {},
   "outputs": [],
   "source": []
  }
 ],
 "metadata": {
  "kernelspec": {
   "display_name": "openAIFunc",
   "language": "python",
   "name": "python3"
  },
  "language_info": {
   "codemirror_mode": {
    "name": "ipython",
    "version": 3
   },
   "file_extension": ".py",
   "mimetype": "text/x-python",
   "name": "python",
   "nbconvert_exporter": "python",
   "pygments_lexer": "ipython3",
   "version": "3.9.6"
  }
 },
 "nbformat": 4,
 "nbformat_minor": 2
}
